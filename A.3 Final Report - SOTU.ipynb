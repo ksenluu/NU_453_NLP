{
 "cells": [
  {
   "cell_type": "code",
   "execution_count": 1,
   "metadata": {},
   "outputs": [],
   "source": [
    "###############################################################################\n",
    "### A.3: Final Report: SOTU\n",
    "###############################################################################"
   ]
  },
  {
   "cell_type": "code",
   "execution_count": 5,
   "metadata": {},
   "outputs": [
    {
     "name": "stderr",
     "output_type": "stream",
     "text": [
      "[nltk_data] Downloading package stopwords to\n",
      "[nltk_data]     /Users/aliagowani/nltk_data...\n",
      "[nltk_data]   Package stopwords is already up-to-date!\n"
     ]
    }
   ],
   "source": [
    "###############################################################################\n",
    "### Load Libraries\n",
    "###############################################################################\n",
    "\n",
    "import re,string\n",
    "from nltk.corpus import stopwords\n",
    "from nltk.stem import PorterStemmer\n",
    "\n",
    "# import nltk.download\n",
    "# from nltk.download import stopwords\n",
    "\n",
    "import nltk\n",
    "nltk.download('stopwords')\n",
    "\n",
    "from sklearn.feature_extraction.text import TfidfVectorizer\n",
    "from sklearn.cluster import KMeans\n",
    "from sklearn.metrics.pairwise import cosine_similarity\n",
    "\n",
    "from sklearn.manifold import MDS\n",
    "\n",
    "from sklearn.preprocessing import LabelEncoder, OneHotEncoder\n",
    "from sklearn.ensemble import RandomForestClassifier\n",
    "from sklearn.metrics import roc_auc_score, accuracy_score, confusion_matrix\n",
    "from sklearn.model_selection import cross_val_score, StratifiedKFold\n",
    "from sklearn.tree import DecisionTreeClassifier\n",
    "import matplotlib.pyplot as plt\n",
    "from sklearn.model_selection import train_test_split, KFold\n",
    "\n",
    "import pandas as pd\n",
    "import os\n",
    "\n",
    "from gensim.models import Word2Vec,LdaMulticore, TfidfModel\n",
    "from gensim import corpora\n",
    "\n",
    "from gensim.models.doc2vec import Doc2Vec, TaggedDocument\n",
    "\n",
    "import numpy as np"
   ]
  },
  {
   "cell_type": "code",
   "execution_count": null,
   "metadata": {},
   "outputs": [],
   "source": [
    "# Functionality to turn stemming on or off\n",
    "STEMMING = False\n",
    "NGRAM_LENGTH = 2"
   ]
  },
  {
   "cell_type": "code",
   "execution_count": 6,
   "metadata": {},
   "outputs": [],
   "source": [
    "###############################################################################\n",
    "### Function to process documents\n",
    "###############################################################################\n",
    "\n",
    "def clean_doc(doc): \n",
    "    #split document into individual words\n",
    "    tokens=doc.split()\n",
    "    re_punc = re.compile('[%s]' % re.escape(string.punctuation))\n",
    "    # remove punctuation from each word\n",
    "    tokens = [re_punc.sub('', w) for w in tokens]\n",
    "    # remove remaining tokens that are not alphabetic\n",
    "    tokens = [word for word in tokens if word.isalpha()]\n",
    "    # filter out short tokens\n",
    "    tokens = [word for word in tokens if len(word) > 4]\n",
    "    #lowercase all words\n",
    "    tokens = [word.lower() for word in tokens]\n",
    "    # filter out stop words\n",
    "    stop_words = set(stopwords.words('english'))\n",
    "    tokens = [w for w in tokens if not w in stop_words]         \n",
    "    # word stemming    \n",
    "    if STEMMING:\n",
    "        ps=PorterStemmer()\n",
    "        tokens=[ps.stem(word) for word in tokens]\n",
    "    return tokens"
   ]
  },
  {
   "cell_type": "code",
   "execution_count": 7,
   "metadata": {},
   "outputs": [],
   "source": [
    "###############################################################################\n",
    "#   Functions to label encoding\n",
    "###############################################################################\n",
    "\n",
    "def One_Hot(variable):\n",
    "    LE=LabelEncoder()\n",
    "    LE.fit(variable)\n",
    "    Label1=LE.transform(variable)\n",
    "    OHE=OneHotEncoder()\n",
    "    labels=OHE.fit_transform(Label1.reshape(-1,1)).toarray()\n",
    "    return labels, LE, OHE"
   ]
  },
  {
   "cell_type": "code",
   "execution_count": null,
   "metadata": {},
   "outputs": [],
   "source": [
    "###############################################################################\n",
    "### Processing text into lists\n",
    "###############################################################################\n",
    "\n",
    "#set working Directory to where class corpus is saved.\n",
    "os.chdir('/Users/aliagowani/Documents/Home Documents/School Papers/Northwestern University - NU/Northwestern 2020 Winter/MSDS 453-DL - Natural Language Processing/Week 3/')\n",
    "\n",
    "\n",
    "#read in class corpus csv into python\n",
    "data=pd.read_csv('2020_Winter_435_Class_Corpus.csv')\n",
    "data=pd.read_csv('2020_Winter_435_Class_Corpus_Gowani.csv')\n",
    "\n",
    "\n",
    "#create empty list to store text documents titles\n",
    "titles=[]\n",
    "\n",
    "#for loop which appends the DSI title to the titles list\n",
    "for i in range(0,len(data)):\n",
    "    temp_text=data['DSI_Title'].iloc[i]\n",
    "    titles.append(temp_text)\n",
    "\n",
    "#create empty list to store text documents\n",
    "text_body=[]\n",
    "\n",
    "#for loop which appends the text to the text_body list\n",
    "for i in range(0,len(data)):\n",
    "    temp_text=data['Text'].iloc[i]\n",
    "    text_body.append(temp_text)\n",
    "\n",
    "#Note: the text_body is the unprocessed list of documents read directly form the csv.\n",
    "\n",
    "# empty list to store processed documents\n",
    "processed_text=[]\n",
    "#for loop to process the text to the processed_text list\n",
    "for i in text_body:\n",
    "    text=clean_doc(i)\n",
    "    processed_text.append(text)\n",
    "\n"
   ]
  }
 ],
 "metadata": {
  "kernelspec": {
   "display_name": "Python 3.7.4 64-bit ('anaconda3': conda)",
   "language": "python",
   "name": "python37464bitanaconda3condaf61d2c006c554469863888b48b6c30fb"
  },
  "language_info": {
   "codemirror_mode": {
    "name": "ipython",
    "version": 3
   },
   "file_extension": ".py",
   "mimetype": "text/x-python",
   "name": "python",
   "nbconvert_exporter": "python",
   "pygments_lexer": "ipython3",
   "version": "3.7.4"
  }
 },
 "nbformat": 4,
 "nbformat_minor": 2
}
