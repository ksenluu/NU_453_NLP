{
 "cells": [
  {
   "cell_type": "markdown",
   "metadata": {},
   "source": [
    "## A.3: Final Report: SOTU"
   ]
  },
  {
   "cell_type": "markdown",
   "metadata": {},
   "source": [
    "### Load Libraries"
   ]
  },
  {
   "cell_type": "code",
   "execution_count": 1,
   "metadata": {},
   "outputs": [
    {
     "name": "stderr",
     "output_type": "stream",
     "text": [
      "[nltk_data] Downloading package stopwords to /Users/mk1989f_a/Document\n",
      "[nltk_data]     s/Mitch/Github/NU_453_NLP/nltk_data...\n",
      "[nltk_data]   Package stopwords is already up-to-date!\n",
      "[nltk_data] Downloading package wordnet to /Users/mk1989f_a/Documents/\n",
      "[nltk_data]     Mitch/Github/NU_453_NLP/nltk_data...\n",
      "[nltk_data]   Package wordnet is already up-to-date!\n"
     ]
    }
   ],
   "source": [
    "import re,string\n",
    "from nltk.corpus import stopwords\n",
    "from nltk.stem import PorterStemmer\n",
    "from nltk.stem.wordnet import WordNetLemmatizer\n",
    "\n",
    "import os\n",
    "wd = os.getcwd()\n",
    "wd_new = wd +'/nltk_data' #creating a new working directory path for stopwords files\n",
    "\n",
    "import nltk\n",
    "nltk.download('stopwords',download_dir=wd_new) \n",
    "nltk.download('wordnet',download_dir=wd_new)\n",
    "nltk.data.path.append(wd_new)\n",
    "\n",
    "from sklearn.feature_extraction.text import TfidfVectorizer\n",
    "from sklearn.cluster import KMeans\n",
    "from sklearn.metrics.pairwise import cosine_similarity\n",
    "\n",
    "from sklearn.manifold import MDS\n",
    "\n",
    "from sklearn.preprocessing import LabelEncoder, OneHotEncoder\n",
    "from sklearn.ensemble import RandomForestClassifier\n",
    "from sklearn.metrics import roc_auc_score, accuracy_score, confusion_matrix\n",
    "from sklearn.model_selection import cross_val_score, StratifiedKFold\n",
    "from sklearn.tree import DecisionTreeClassifier\n",
    "import matplotlib.pyplot as plt\n",
    "from sklearn.model_selection import train_test_split, KFold\n",
    "\n",
    "import pandas as pd\n",
    "\n",
    "from gensim.models import Word2Vec,LdaMulticore, TfidfModel\n",
    "from gensim import corpora\n",
    "\n",
    "from gensim.models.doc2vec import Doc2Vec, TaggedDocument\n",
    "\n",
    "import numpy as np"
   ]
  },
  {
   "cell_type": "code",
   "execution_count": 2,
   "metadata": {},
   "outputs": [],
   "source": [
    "# Functionality to turn stemming on or off\n",
    "STEMMING = False\n",
    "NGRAM_LENGTH = 2"
   ]
  },
  {
   "cell_type": "markdown",
   "metadata": {},
   "source": [
    "#### Pandas Parameters"
   ]
  },
  {
   "cell_type": "code",
   "execution_count": 3,
   "metadata": {},
   "outputs": [],
   "source": [
    "#pandas parameters\n",
    "pd.set_option('display.max_rows', 500)\n",
    "pd.set_option('display.max_columns', 500)\n",
    "pd.set_option('display.width', 500)"
   ]
  },
  {
   "cell_type": "code",
   "execution_count": 4,
   "metadata": {},
   "outputs": [],
   "source": [
    "from IPython.core.interactiveshell import InteractiveShell\n",
    "InteractiveShell.ast_node_interactivity = \"all\""
   ]
  },
  {
   "cell_type": "markdown",
   "metadata": {},
   "source": [
    "## Data Prep"
   ]
  },
  {
   "cell_type": "markdown",
   "metadata": {},
   "source": [
    "### Function to process documents"
   ]
  },
  {
   "cell_type": "code",
   "execution_count": 5,
   "metadata": {},
   "outputs": [],
   "source": [
    "def clean_doc(doc): \n",
    "    #split document into individual words\n",
    "    tokens=doc.split()\n",
    "    re_punc = re.compile('[%s]' % re.escape(string.punctuation))\n",
    "    # remove punctuation from each word\n",
    "    tokens = [re_punc.sub('', w) for w in tokens]\n",
    "    # remove remaining tokens that are not alphabetic\n",
    "    tokens = [word for word in tokens if word.isalpha()]\n",
    "    # filter out short tokens\n",
    "    tokens = [word for word in tokens if len(word) > 4]\n",
    "    #lowercase all words\n",
    "    tokens = [word.lower() for word in tokens]\n",
    "    # filter out stop words\n",
    "    stop_words = set(stopwords.words('english'))\n",
    "    file_stopwords = pd.read_csv(\"https://raw.githubusercontent.com/ksenluu/NU_453_NLP/master/Data/english\",header=None)\n",
    "    file_stopwords = file_stopwords[0].values.tolist()\n",
    "    new_stopwords = ['effect','years','great','today','tonight','congress','freedom','united','states','united states'\n",
    "                     ,'americans','america','american','americas','government','people','world','shall','would'\n",
    "                     ,'nations','national','nation','country','state','public','policy'] #remove repeating terms\n",
    "       \n",
    "    new_stopwords= new_stopwords+file_stopwords\n",
    "    stop_words = stop_words.union(new_stopwords)\n",
    "    tokens = [w for w in tokens if not w in stop_words]        \n",
    "    # word stemming    \n",
    "    #if STEMMING:\n",
    "        #ps=PorterStemmer()\n",
    "        #tokens=[ps.stem(word) for word in tokens]\n",
    "    # Lemmatization to account for things like plurals\n",
    "    lem = WordNetLemmatizer()\n",
    "    tokens = [lem.lemmatize(token) for token in tokens]\n",
    "    \n",
    "    return tokens"
   ]
  },
  {
   "cell_type": "markdown",
   "metadata": {},
   "source": [
    "###   Functions to label encoding"
   ]
  },
  {
   "cell_type": "code",
   "execution_count": 6,
   "metadata": {},
   "outputs": [],
   "source": [
    "def One_Hot(variable):\n",
    "    LE=LabelEncoder()\n",
    "    LE.fit(variable)\n",
    "    Label1=LE.transform(variable)\n",
    "    OHE=OneHotEncoder()\n",
    "    labels=OHE.fit_transform(Label1.reshape(-1,1)).toarray()\n",
    "    return labels, LE, OHE"
   ]
  },
  {
   "cell_type": "code",
   "execution_count": 7,
   "metadata": {},
   "outputs": [],
   "source": [
    "# read data\n",
    "data = pd.read_csv(\"https://raw.githubusercontent.com/ksenluu/NU_453_NLP/master/Data/sotu_corpus_small.csv\")\n"
   ]
  },
  {
   "cell_type": "code",
   "execution_count": 8,
   "metadata": {},
   "outputs": [
    {
     "data": {
      "text/plain": [
       "(102, 5)"
      ]
     },
     "execution_count": 8,
     "metadata": {},
     "output_type": "execute_result"
    },
    {
     "data": {
      "text/html": [
       "<div>\n",
       "<style scoped>\n",
       "    .dataframe tbody tr th:only-of-type {\n",
       "        vertical-align: middle;\n",
       "    }\n",
       "\n",
       "    .dataframe tbody tr th {\n",
       "        vertical-align: top;\n",
       "    }\n",
       "\n",
       "    .dataframe thead th {\n",
       "        text-align: right;\n",
       "    }\n",
       "</style>\n",
       "<table border=\"1\" class=\"dataframe\">\n",
       "  <thead>\n",
       "    <tr style=\"text-align: right;\">\n",
       "      <th></th>\n",
       "      <th>Unnamed: 0</th>\n",
       "      <th>DSI_Title</th>\n",
       "      <th>Text</th>\n",
       "      <th>President_Name</th>\n",
       "      <th>Year_SOTU</th>\n",
       "    </tr>\n",
       "  </thead>\n",
       "  <tbody>\n",
       "    <tr>\n",
       "      <th>0</th>\n",
       "      <td>0</td>\n",
       "      <td>Reagan_1982.txt</td>\n",
       "      <td>Mr. Speaker, Mr. President, distinguished Memb...</td>\n",
       "      <td>Reagan</td>\n",
       "      <td>1982</td>\n",
       "    </tr>\n",
       "    <tr>\n",
       "      <th>1</th>\n",
       "      <td>1</td>\n",
       "      <td>Wilson_1914.txt</td>\n",
       "      <td>GENTLEMEN OF THE CONGRESS:  The session upon w...</td>\n",
       "      <td>Wilson</td>\n",
       "      <td>1914</td>\n",
       "    </tr>\n",
       "    <tr>\n",
       "      <th>2</th>\n",
       "      <td>2</td>\n",
       "      <td>Madison_1814.txt</td>\n",
       "      <td>Fellow-Citizens of the Senate and House of Rep...</td>\n",
       "      <td>Madison</td>\n",
       "      <td>1814</td>\n",
       "    </tr>\n",
       "    <tr>\n",
       "      <th>3</th>\n",
       "      <td>3</td>\n",
       "      <td>Johnson_1969.txt</td>\n",
       "      <td>Mr. Speaker, Mr. President, Members of the Con...</td>\n",
       "      <td>Johnson</td>\n",
       "      <td>1969</td>\n",
       "    </tr>\n",
       "    <tr>\n",
       "      <th>4</th>\n",
       "      <td>4</td>\n",
       "      <td>Hoover_1930.txt</td>\n",
       "      <td>To the Senate and House of Representatives:  I...</td>\n",
       "      <td>Hoover</td>\n",
       "      <td>1930</td>\n",
       "    </tr>\n",
       "  </tbody>\n",
       "</table>\n",
       "</div>"
      ],
      "text/plain": [
       "   Unnamed: 0         DSI_Title                                               Text President_Name Year_SOTU\n",
       "0           0   Reagan_1982.txt  Mr. Speaker, Mr. President, distinguished Memb...         Reagan      1982\n",
       "1           1   Wilson_1914.txt  GENTLEMEN OF THE CONGRESS:  The session upon w...         Wilson      1914\n",
       "2           2  Madison_1814.txt  Fellow-Citizens of the Senate and House of Rep...        Madison      1814\n",
       "3           3  Johnson_1969.txt  Mr. Speaker, Mr. President, Members of the Con...        Johnson      1969\n",
       "4           4   Hoover_1930.txt  To the Senate and House of Representatives:  I...         Hoover      1930"
      ]
     },
     "execution_count": 8,
     "metadata": {},
     "output_type": "execute_result"
    }
   ],
   "source": [
    "# new data frame with split value columns \n",
    "new = data[\"DSI_Title\"].str.split(\"_\", n = 1, expand = True) \n",
    "  \n",
    "# making separate President_Name column from new data frame \n",
    "data[\"President_Name\"] = new[0] \n",
    "  \n",
    "# making separate Year_SOTU column from new data frame \n",
    "data[\"Year_SOTU\"] = new[1] \n",
    "  \n",
    "new = data[\"Year_SOTU\"].str.split(\".\", n = 1, expand = True) \n",
    "data[\"Year_SOTU\"] = new[0] \n",
    "\n",
    "# df display \n",
    "data.shape\n",
    "data.head(5) "
   ]
  },
  {
   "cell_type": "markdown",
   "metadata": {},
   "source": [
    "### Processing text into lists"
   ]
  },
  {
   "cell_type": "code",
   "execution_count": null,
   "metadata": {},
   "outputs": [],
   "source": [
    "# create empty list to store text documents titles\n",
    "titles=[]\n",
    "\n",
    "#for loop which appends the DSI title to the titles list\n",
    "for i in range(0,len(data)):\n",
    "    temp_text=data['DSI_Title'].iloc[i]\n",
    "    titles.append(temp_text)\n",
    "# create empty list to store text documents\n",
    "text_body=[]\n",
    "\n",
    "# for loop which appends the text to the text_body list\n",
    "for i in range(0,len(data)):\n",
    "    temp_text=data['Text'].iloc[i]\n",
    "    text_body.append(temp_text)\n",
    "\n",
    "# Note: the text_body is the unprocessed list of documents read directly form the csv.\n",
    "# empty list to store processed documents\n",
    "processed_text=[]\n",
    "#for loop to process the text to the processed_text list\n",
    "for i in text_body:\n",
    "    text=clean_doc(i)\n",
    "    processed_text.append(text)\n",
    "# stitch back together individual words to reform body of text\n",
    "final_processed_text=[]\n",
    "\n",
    "for i in processed_text:\n",
    "    temp_DSI=i[0]\n",
    "    for k in range(1,len(i)):\n",
    "        temp_DSI=temp_DSI+' '+i[k]\n",
    "    final_processed_text.append(temp_DSI)\n",
    "# Length of full tokenized corpus\n",
    "len(temp_text)"
   ]
  },
  {
   "cell_type": "markdown",
   "metadata": {},
   "source": [
    "## Wordcloud"
   ]
  },
  {
   "cell_type": "code",
   "execution_count": null,
   "metadata": {},
   "outputs": [],
   "source": [
    "#pip install wordcloud"
   ]
  },
  {
   "cell_type": "code",
   "execution_count": null,
   "metadata": {},
   "outputs": [],
   "source": [
    "# rerun stopwords to object\n",
    "stop_words = set(stopwords.words('english'))\n",
    "file_stopwords = pd.read_csv(\"https://raw.githubusercontent.com/ksenluu/NU_453_NLP/master/Data/english\",header=None)\n",
    "file_stopwords = file_stopwords[0].values.tolist()\n",
    "new_stopwords = ['effect','years','great','today','tonight','congress','freedom','united','states','united states'\n",
    "                     ,'americans','america','american','americas','government','people','world','shall','would'\n",
    "                     ,'nations','national','nation','country','state','public','policy'] #remove repeating terms\n",
    "       \n",
    "new_stopwords= new_stopwords+file_stopwords\n",
    "stop_words = stop_words.union(new_stopwords)"
   ]
  },
  {
   "cell_type": "code",
   "execution_count": null,
   "metadata": {},
   "outputs": [],
   "source": [
    "# wordcloud\n",
    "from wordcloud import WordCloud\n",
    "final_processed_text_copy = final_processed_text.copy()\n",
    "long_string = ','.join(final_processed_text_copy)\n",
    "wordcloud = WordCloud(background_color=\"white\",\n",
    "                      width=800, height=600,\n",
    "                      stopwords=stop_words,\n",
    "                      max_words=5000, \n",
    "                      contour_width=3, \n",
    "                      contour_color='steelblue')\n",
    "wordcloud.generate(long_string)\n",
    "wordcloud.to_image()"
   ]
  },
  {
   "cell_type": "markdown",
   "metadata": {},
   "source": [
    "### Sklearn TFIDF \n",
    "note the ngram_range will allow you to include multiple words within the TFIDF matrix"
   ]
  },
  {
   "cell_type": "code",
   "execution_count": null,
   "metadata": {},
   "outputs": [],
   "source": [
    "# call Tfidf Vectorizer\n",
    "Tfidf=TfidfVectorizer(ngram_range=(1,3), max_df=0.80, max_features=50000)\n",
    "\n",
    "\n",
    "#fit the vectorizer using final processed documents.  The vectorizer requires the \n",
    "#stiched back together document.\n",
    "final_processed_text_tfidf = final_processed_text.copy()\n",
    "TFIDF_matrix=Tfidf.fit_transform(final_processed_text_tfidf)\n",
    "\n",
    "#creating datafram from TFIDF Matrix\n",
    "matrix=pd.DataFrame(TFIDF_matrix.toarray(), columns=Tfidf.get_feature_names(), index=titles)"
   ]
  },
  {
   "cell_type": "code",
   "execution_count": null,
   "metadata": {},
   "outputs": [],
   "source": [
    "# Verify TFIDF_Matrix has been created.\n",
    "matrix.shape\n",
    "matrix.head()"
   ]
  },
  {
   "cell_type": "code",
   "execution_count": null,
   "metadata": {},
   "outputs": [],
   "source": [
    "# Get unique names of President_Name to ensure BushW and BusHW were enetered correctly.\n",
    "data['President_Name'].unique()"
   ]
  },
  {
   "cell_type": "code",
   "execution_count": null,
   "metadata": {},
   "outputs": [],
   "source": [
    "# Simple plot to show the number of SOTU speeches by President Name\n",
    "\n",
    "import seaborn as sns\n",
    "\n",
    "plt.subplots(figsize=(19,5))\n",
    "ax = sns.countplot(x=\"President_Name\", data=data)\n",
    "# plt.savefig(\"plot-president_name.pdf\", bbox_inches = 'tight', dpi=None, facecolor='w', edgecolor='b', orientation='portrait', papertype=None, format=None, pad_inches=0.25)\n",
    "plt.xlabel('President Name')\n",
    "plt.ylabel('Count of SOTU')\n",
    "plt.title('US: State of the Union Speeches (SOTU)')\n",
    "plt.show()"
   ]
  },
  {
   "cell_type": "markdown",
   "metadata": {
    "heading_collapsed": true
   },
   "source": [
    "### Explore Frequent Terms"
   ]
  },
  {
   "cell_type": "code",
   "execution_count": null,
   "metadata": {
    "hidden": true
   },
   "outputs": [],
   "source": [
    "# Creating dataframe from CV Matrix\n",
    "from sklearn.feature_extraction.text import CountVectorizer\n",
    "cv=CountVectorizer(ngram_range=(1,3))\n",
    "final_processed_text_cv = final_processed_text.copy()\n",
    "cv_matrix=cv.fit_transform(final_processed_text_cv)    \n",
    "cv_matrix=pd.DataFrame(cv_matrix.toarray(), columns=cv.get_feature_names(), index=titles)   "
   ]
  },
  {
   "cell_type": "code",
   "execution_count": null,
   "metadata": {
    "hidden": true
   },
   "outputs": [],
   "source": [
    "# Trying few things out (Ali) \n",
    "\n",
    "# Create transposed dataframe from CV Matrix\n",
    "matrix_corp_t = matrix.transpose()\n",
    "cv_matrix_corp_t = cv_matrix.transpose() \n",
    "\n",
    "# Sum all the terms to create Term Frequency and Document Frequency for each term\n",
    "cv_matrix_corp_t['df_corpus']= (cv_matrix_corp_t != 0).sum(axis=1)\n",
    "cv_matrix_corp_t['tf_corpus']= cv_matrix_corp_t.sum(axis=1) - cv_matrix_corp_t['df_corpus']\n",
    "\n",
    "# Remove uncessary columns from the dataframe after summing them\n",
    "idx = np.r_[0:102]\n",
    "cv_matrix_corp_t.drop(cv_matrix_corp_t.columns[idx], axis=1, inplace=True)\n",
    "\n",
    "print(\"Top 10 Terms based on document frequency.\")\n",
    "print(cv_matrix_corp_t[['df_corpus']].nlargest(20, 'df_corpus'))\n",
    "print(\"\\n\")\n",
    "print(\"Top 10 Terms based on frequency.\")\n",
    "print(cv_matrix_corp_t[['tf_corpus']].nlargest(20, 'tf_corpus'))"
   ]
  },
  {
   "cell_type": "markdown",
   "metadata": {},
   "source": [
    "### Explore TFIDF Values"
   ]
  },
  {
   "cell_type": "code",
   "execution_count": null,
   "metadata": {},
   "outputs": [],
   "source": [
    "average_TFIDF={}\n",
    "for i in matrix.columns:\n",
    "    average_TFIDF[i]=np.mean(matrix[i])\n",
    "\n",
    "average_TFIDF_DF=pd.DataFrame(average_TFIDF,index=[0]).transpose()\n",
    "\n",
    "average_TFIDF_DF.columns=['TFIDF']\n",
    "\n",
    "#calculate Q1 and Q3 range\n",
    "Q1=np.percentile(average_TFIDF_DF, 25)\n",
    "Q3=np.percentile(average_TFIDF_DF, 75)\n",
    "IQR = Q3 - Q1\n",
    "outlier=Q3+(1.5*IQR)\n",
    "\n",
    "#words that exceed the Q3+IQR*1.5\n",
    "outlier_list=average_TFIDF_DF[average_TFIDF_DF['TFIDF']>=outlier]"
   ]
  },
  {
   "cell_type": "code",
   "execution_count": null,
   "metadata": {},
   "outputs": [],
   "source": [
    "outlier_list.shape"
   ]
  },
  {
   "cell_type": "markdown",
   "metadata": {
    "heading_collapsed": true
   },
   "source": [
    "### Gensim Word2vec \n",
    "Note, there are opportunities to use the word2vec matrix to determine words which are similar.  Similar words can be used to create equivalent classes.  \n",
    "k-means is not used to group individual words using the Word2Vec output."
   ]
  },
  {
   "cell_type": "code",
   "execution_count": null,
   "metadata": {
    "hidden": true
   },
   "outputs": [],
   "source": [
    "#word to vec\n",
    "model_w2v = Word2Vec(processed_text, size=100, window=5, min_count=1, workers=4)\n",
    "\n",
    "#join all processed DSI words into single list\n",
    "processed_text_w2v=[]\n",
    "for i in processed_text:\n",
    "    for k in i:\n",
    "        processed_text_w2v.append(k)\n",
    "\n",
    "#obtian all the unique words from DSI\n",
    "w2v_words=list(set(processed_text_w2v))\n",
    "\n",
    "#can also use the get_feature_names() from TFIDF to get the list of words\n",
    "#w2v_words=Tfidf.get_feature_names()\n",
    "\n",
    "#empty dictionary to store words with vectors\n",
    "w2v_vectors={}\n",
    "\n",
    "#for loop to obtain weights for each word\n",
    "for i in w2v_words:\n",
    "    temp_vec=model_w2v.wv[i]\n",
    "    w2v_vectors[i]=temp_vec\n",
    "\n",
    "#create a final dataframe to view word vectors\n",
    "w2v_df=pd.DataFrame(w2v_vectors).transpose()"
   ]
  },
  {
   "cell_type": "markdown",
   "metadata": {},
   "source": [
    "### K Means Clustering - TFIDF\n",
    "the following section runs applies the k-means algorithm on the TFIDF matrix."
   ]
  },
  {
   "cell_type": "code",
   "execution_count": null,
   "metadata": {},
   "outputs": [],
   "source": [
    "number_clusters = range(1, 8)\n",
    "\n",
    "kmeans = [KMeans(n_clusters=i, max_iter = 600) for i in number_clusters]\n",
    "kmeans\n",
    "\n",
    "score = [kmeans[i].fit(TFIDF_matrix).score(TFIDF_matrix) for i in range(len(kmeans))]\n",
    "score\n",
    "\n",
    "plt.plot(number_clusters, score)\n",
    "plt.xlabel('Number of Clusters')\n",
    "plt.ylabel('Score')\n",
    "plt.title('Elbow Method')\n",
    "plt.show()"
   ]
  },
  {
   "cell_type": "code",
   "execution_count": null,
   "metadata": {},
   "outputs": [],
   "source": [
    "k=6\n",
    "km = KMeans(n_clusters=k, random_state =89)\n",
    "km.fit(TFIDF_matrix)\n",
    "clusters = km.labels_.tolist()\n",
    "\n",
    "final_processed_text_copy = final_processed_text.copy()\n",
    "terms = Tfidf.get_feature_names()\n",
    "Dictionary={'Doc Name':titles, 'Cluster':clusters,  'Text': final_processed_text_copy}\n",
    "frame=pd.DataFrame(Dictionary, columns=['Cluster', 'Doc Name','Text'])\n",
    "\n",
    "\n",
    "print(\"Top terms per cluster:\")\n",
    "#sort cluster centers by proximity to centroid\n",
    "order_centroids = km.cluster_centers_.argsort()[:, ::-1] \n",
    "\n",
    "terms_dict=[]\n",
    "\n",
    "\n",
    "#save the terms for each cluster and document to dictionaries.  To be used later\n",
    "#for plotting output.\n",
    "\n",
    "#dictionary to store terms and titles\n",
    "cluster_terms={}\n",
    "cluster_title={}\n",
    "\n",
    "\n",
    "for i in range(k):\n",
    "    print(\"Cluster %d:\" % i),\n",
    "    temp_terms=[]\n",
    "    temp_titles=[]\n",
    "    for ind in order_centroids[i, :15]:\n",
    "        print(' %s' % terms[ind])\n",
    "        terms_dict.append(terms[ind])\n",
    "        temp_terms.append(terms[ind])\n",
    "    cluster_terms[i]=temp_terms\n",
    "    \n",
    "    print(\"Cluster %d titles:\" % i, end='')\n",
    "    temp=frame[frame['Cluster']==i]\n",
    "    for title in temp['Doc Name']:\n",
    "        print(' %s,' % title, end='')\n",
    "        temp_titles.append(title)\n",
    "    cluster_title[i]=temp_titles"
   ]
  },
  {
   "cell_type": "markdown",
   "metadata": {
    "heading_collapsed": true
   },
   "source": [
    "### Plotting \n",
    "Convert two components as we're plotting points in a two-dimensional plane\n",
    "\"precomputed\" because we provide a distance matrix\n",
    "\n",
    "We will also specify `random_state` so the plot is reproducible."
   ]
  },
  {
   "cell_type": "code",
   "execution_count": null,
   "metadata": {
    "hidden": true
   },
   "outputs": [],
   "source": [
    "mds = MDS(n_components=2, dissimilarity=\"precomputed\", random_state=1)\n",
    "\n",
    "dist = 1 - cosine_similarity(TFIDF_matrix)\n",
    "\n",
    "pos = mds.fit_transform(dist)  # shape (n_components, n_samples)\n",
    "\n",
    "xs, ys = pos[:, 0], pos[:, 1]\n",
    "\n",
    "\n",
    "#set up colors per clusters using a dict.  number of colors must correspond to K\n",
    "cluster_colors = {0: 'black', 1: 'grey', 2: 'blue', 3: 'rosybrown', 4: 'firebrick', 5:'red', 6:'darksalmon', 7:'sienna', 8:'green', 9:'purple', 10:'pink', 11:'yellow'}\n",
    "\n",
    "\n",
    "#set up cluster names using a dict.  \n",
    "cluster_dict=cluster_title\n",
    "\n",
    "#create data frame that has the result of the MDS plus the cluster numbers and titles\n",
    "df = pd.DataFrame(dict(x=xs, y=ys, label=clusters, title=range(0,len(clusters)))) \n",
    "\n",
    "#group by cluster\n",
    "groups = df.groupby('label')\n",
    "\n",
    "fig, ax = plt.subplots(figsize=(12, 12)) # set size\n",
    "ax.margins(0.05) # Optional, just adds 5% padding to the autoscaling\n",
    "\n",
    "#iterate through groups to layer the plot\n",
    "#note that I use the cluster_name and cluster_color dicts with the 'name' lookup to return the appropriate color/label\n",
    "for name, group in groups:\n",
    "    ax.plot(group.x, group.y, marker='o', linestyle='', ms=12,\n",
    "            label=cluster_dict[name], color=cluster_colors[name], \n",
    "            mec='none')\n",
    "    ax.set_aspect('auto')\n",
    "    ax.tick_params(\\\n",
    "        axis= 'x',          # changes apply to the x-axis\n",
    "        which='both',      # both major and minor ticks are affected\n",
    "        bottom='off',      # ticks along the bottom edge are off\n",
    "        top='off',         # ticks along the top edge are off\n",
    "        labelbottom='on')\n",
    "    ax.tick_params(\\\n",
    "        axis= 'y',         # changes apply to the y-axis\n",
    "        which='both',      # both major and minor ticks are affected\n",
    "        left='off',      # ticks along the bottom edge are off\n",
    "        top='off',         # ticks along the top edge are off\n",
    "        labelleft='on')\n",
    "    ax.legend(loc='center left', bbox_to_anchor=(1, 0.5))      #show legend with only 1 point"
   ]
  },
  {
   "cell_type": "code",
   "execution_count": null,
   "metadata": {
    "hidden": true
   },
   "outputs": [],
   "source": [
    "#fig.savefig('Images/clusters.png')"
   ]
  },
  {
   "cell_type": "code",
   "execution_count": null,
   "metadata": {
    "hidden": true
   },
   "outputs": [],
   "source": [
    "model_RF=RandomForestClassifier()\n",
    "\n",
    "#TFIDF\n",
    "Y=clusters\n",
    "X=TFIDF_matrix\n",
    "\n",
    "#cross validation\n",
    "cv_score=cross_val_score(model_RF, X,Y, cv=5)\n",
    "\n",
    "#mean CV score\n",
    "np.mean(cv_score)"
   ]
  },
  {
   "cell_type": "markdown",
   "metadata": {
    "heading_collapsed": true
   },
   "source": [
    "### Review Clusters"
   ]
  },
  {
   "cell_type": "code",
   "execution_count": null,
   "metadata": {
    "hidden": true
   },
   "outputs": [],
   "source": [
    "term_clusters = pd.DataFrame.from_dict(cluster_terms) #pull out terms into a dataframe\n",
    "terms = term_clusters.stack() #stack terms names into 1 column\n",
    "terms = terms.reset_index() #move index into a column\n",
    "terms = terms.rename(columns={'level_1': 'cluster_term', 0:'term'}) #rename columns\n",
    "terms = terms.drop(['level_0'], axis=1) #drop unecessary column\n",
    "terms.head()"
   ]
  },
  {
   "cell_type": "code",
   "execution_count": null,
   "metadata": {
    "hidden": true
   },
   "outputs": [],
   "source": [
    "# look at frequent terms across clusters\n",
    "term_clusters"
   ]
  },
  {
   "cell_type": "code",
   "execution_count": null,
   "metadata": {
    "hidden": true
   },
   "outputs": [],
   "source": [
    "titles = pd.DataFrame.from_dict(cluster_title, orient='index') #convert tiles to a dataframe\n",
    "titles = titles.stack() #stack document names into 1 column\n",
    "titles = titles.reset_index() #move index into a column\n",
    "titles = titles.rename(columns={'level_0': 'cluster_doc', 0:'document'}) #rename columns\n",
    "titles = titles.drop(['level_1'], axis=1) #drop unecessary column\n",
    "titles.head()"
   ]
  },
  {
   "cell_type": "code",
   "execution_count": null,
   "metadata": {
    "hidden": true
   },
   "outputs": [],
   "source": [
    "# join TFIDF values to documents in new dataframe w/ clusters\n",
    "term_list = terms['term'].values.tolist() #pull all terms into a list\n",
    "matrix_clustering = matrix[term_list] #pull out only terms in clusters\n",
    "full_titles = titles.set_index('document').join(matrix_clustering, how='left') # join in tf-idf values\n",
    "full_titles.shape"
   ]
  },
  {
   "cell_type": "code",
   "execution_count": null,
   "metadata": {
    "hidden": true
   },
   "outputs": [],
   "source": [
    "# calculate average tf-idf values for each cluster of terms\n",
    "for i in range (k):\n",
    "    full_titles[i] = full_titles[term_clusters[i].values.tolist()].mean(axis=1)"
   ]
  },
  {
   "cell_type": "code",
   "execution_count": null,
   "metadata": {
    "hidden": true
   },
   "outputs": [],
   "source": [
    "# remove all other columsn leaving only the average \n",
    "full_titles = full_titles.set_index('cluster_doc', append=True)\n",
    "full_titles_final = full_titles[full_titles.columns[-k:]]"
   ]
  },
  {
   "cell_type": "code",
   "execution_count": null,
   "metadata": {
    "hidden": true,
    "scrolled": false
   },
   "outputs": [],
   "source": [
    "from pandas import DataFrame\n",
    "import seaborn as sns\n",
    "%matplotlib inline\n",
    "\n",
    "plt.figure(figsize=(5,30))\n",
    "plt.rcParams['font.size'] = 10\n",
    "p=sns.heatmap(full_titles_final, cmap='coolwarm', robust=True)\n",
    "p.xaxis.tick_top()\n",
    "p.xaxis.set_label_position('top')"
   ]
  },
  {
   "cell_type": "code",
   "execution_count": null,
   "metadata": {
    "hidden": true
   },
   "outputs": [],
   "source": [
    "p.get_figure().savefig('Images/heatmap_7.png')\n",
    "\n",
    "# heatmap_1 using 8 clusters, no additional stopwords removed\n",
    "# heatmap_2 using 8 clusters, reduced term size to 1-2 words, removed frequent words\n",
    "# heatmap_3 using 6 clusters, reduced term size to 1-2 words, removed frequent words\n",
    "# heatmap_4 using 6 clusters, reduced term size to 1-3 words, removed frequent words\n",
    "# heatmap_5 using 6 clusters, reduced term size to 1-2 words, removed frequent words, increased top term size to 15 *BEST*\n",
    "# heatmap_6 using 6 clsuters, reduced term size to 1-2 words, removed frequent words, increased top term size to 20\n",
    "# heatmap_7 using 6 clsuters, term size to 1-3 words, removed frequent words, top term size 15"
   ]
  },
  {
   "cell_type": "markdown",
   "metadata": {},
   "source": [
    "### Comparing Cluster Groupings"
   ]
  },
  {
   "cell_type": "code",
   "execution_count": null,
   "metadata": {},
   "outputs": [],
   "source": [
    "# merging dataframes\n",
    "kl_groups1 = full_titles_final.copy()\n",
    "kl_groups1 = kl_groups1.reset_index()\n",
    "k1_groups2 = kl_groups1[['document','cluster_doc']].copy()\n",
    "\n",
    "data1 = data.copy()\n",
    "data2 = data1[['DSI_Title','President_Name','Year_SOTU']].copy() \n",
    "data2.rename(columns={'DSI_Title':'document'}, inplace=True)\n",
    "\n",
    "# left join\n",
    "kl_groups_final = k1_groups2.merge(data2, on ='document', how='left')\n",
    "\n",
    "print(k1_groups2.shape)\n",
    "print(data2.shape)\n",
    "print(kl_groups_final.shape)"
   ]
  },
  {
   "cell_type": "code",
   "execution_count": null,
   "metadata": {},
   "outputs": [],
   "source": [
    "# add random variable\n",
    "kl_groups_final['randNumCol'] = np.random.randint(1, 103, kl_groups_final.shape[0])\n",
    "\n",
    "# change cluster to be string\n",
    "kl_groups_final['cluster'] = kl_groups_final['cluster_doc'].astype(str)\n",
    "\n",
    "kl_groups_final.head()"
   ]
  },
  {
   "cell_type": "code",
   "execution_count": null,
   "metadata": {},
   "outputs": [],
   "source": [
    "pip install plotly -q"
   ]
  },
  {
   "cell_type": "code",
   "execution_count": null,
   "metadata": {},
   "outputs": [],
   "source": [
    "import plotly.express as px\n",
    "fig = px.scatter(kl_groups_final, x=\"Year_SOTU\", y=\"randNumCol\", color=\"cluster\", hover_data=['document']\n",
    "                 ,width=800, height=600)\n",
    "\n",
    "fig.update_traces(marker=dict(size=10,\n",
    "                              opacity=0.8,\n",
    "                              line=dict(width=2,\n",
    "                                        color='DarkSlateGrey')),\n",
    "                  selector=dict(mode='markers'))\n",
    "#fig.show()"
   ]
  },
  {
   "cell_type": "markdown",
   "metadata": {},
   "source": [
    "### K Means Clustering Doc2Vec\n",
    "\n",
    "The following section of code is to run the k-means algorithm on the doc2vec outputs.\n",
    "<br/>Note the differences in document clusters compared to the TFIDF matrix."
   ]
  },
  {
   "cell_type": "code",
   "execution_count": null,
   "metadata": {},
   "outputs": [],
   "source": [
    "# create empty list to store text documents titles\n",
    "titles=[]\n",
    "\n",
    "#for loop which appends the DSI title to the titles list\n",
    "for i in range(0,len(data)):\n",
    "    temp_text=data['DSI_Title'].iloc[i]\n",
    "    titles.append(temp_text)\n",
    "# create empty list to store text documents\n",
    "text_body=[]\n",
    "\n",
    "# for loop which appends the text to the text_body list\n",
    "for i in range(0,len(data)):\n",
    "    temp_text=data['Text'].iloc[i]\n",
    "    text_body.append(temp_text)\n",
    "\n",
    "# Note: the text_body is the unprocessed list of documents read directly form the csv.\n",
    "# empty list to store processed documents\n",
    "processed_text=[]\n",
    "#for loop to process the text to the processed_text list\n",
    "for i in text_body:\n",
    "    text=clean_doc(i)\n",
    "    processed_text.append(text)\n",
    "# stitch back together individual words to reform body of text\n",
    "final_processed_text=[]\n",
    "\n",
    "for i in processed_text:\n",
    "    temp_DSI=i[0]\n",
    "    for k in range(1,len(i)):\n",
    "        temp_DSI=temp_DSI+' '+i[k]\n",
    "    final_processed_text.append(temp_DSI)\n",
    "# Length of full tokenized corpus\n",
    "len(temp_text)"
   ]
  },
  {
   "cell_type": "code",
   "execution_count": null,
   "metadata": {},
   "outputs": [],
   "source": [
    "final_processed_text_cd2v = final_processed_text.copy()\n",
    "documents = [TaggedDocument(doc, [i]) for i, doc in enumerate(final_processed_text_cd2v)]\n",
    "model = Doc2Vec(documents, vector_size=100, window=2, min_count=1, workers=4)\n",
    "\n",
    "doc2vec_df=pd.DataFrame()\n",
    "for i in range(0,len(processed_text)):\n",
    "    vector=pd.DataFrame(model.infer_vector(processed_text[i])).transpose()\n",
    "    doc2vec_df=pd.concat([doc2vec_df,vector], axis=0)\n",
    "\n",
    "doc2vec_df=doc2vec_df.reset_index()\n",
    "\n",
    "doc_titles={'title': titles}\n",
    "t=pd.DataFrame(doc_titles)\n",
    "\n",
    "doc2vec_df=pd.concat([doc2vec_df,t], axis=1)\n",
    "\n",
    "doc2vec_df=doc2vec_df.drop('index', axis=1)"
   ]
  },
  {
   "cell_type": "code",
   "execution_count": null,
   "metadata": {},
   "outputs": [],
   "source": [
    "# creating vector representation of the whole document\n",
    "\n",
    "doc2vec_k_means=doc2vec_df.drop('title', axis=1)\n",
    "\n",
    "k=8\n",
    "km2 = KMeans(n_clusters=k, random_state =89)\n",
    "km2.fit(doc2vec_k_means)\n",
    "clusters_d2v = km2.labels_.tolist()\n",
    "\n",
    "final_processed_text_copy2 = final_processed_text.copy()\n",
    "Dictionary={'Doc Name':titles, 'Cluster':clusters_d2v,  'Text': final_processed_text_copy2}\n",
    "frame=pd.DataFrame(Dictionary, columns=['Cluster', 'Doc Name','Text'])\n",
    "\n",
    "# dictionary to store clusters and respective titles\n",
    "cluster_title={}\n",
    "\n",
    "# note doc2vec clusters will not have individual words due to the vector representation\n",
    "# is based on the entire document not indvidual words. As a result, there won't be individual\n",
    "# word outputs from each cluster.   \n",
    "for i in range(k):\n",
    "    temp=frame[frame['Cluster']==i]\n",
    "    temp_title_list=[]\n",
    "    for title in temp['Doc Name']:\n",
    "        temp_title_list.append(title)\n",
    "    cluster_title[i]=temp_title_list\n",
    "    "
   ]
  },
  {
   "cell_type": "code",
   "execution_count": null,
   "metadata": {},
   "outputs": [],
   "source": [
    "cluster_title"
   ]
  },
  {
   "cell_type": "code",
   "execution_count": null,
   "metadata": {},
   "outputs": [],
   "source": [
    "#Doc2Vec\n",
    "Y=clusters_d2v\n",
    "X=doc2vec_k_means\n",
    "\n",
    "#cross validation\n",
    "cv_score=cross_val_score(model_RF, X,Y, cv=7)\n",
    "\n",
    "#mean CV score\n",
    "np.mean(cv_score)"
   ]
  },
  {
   "cell_type": "markdown",
   "metadata": {},
   "source": [
    "### Plotting Doc2vec\n",
    "convert two components as we're plotting points in a two-dimensional plane\n",
    "\"precomputed\" because we provide a distance matrix\n",
    "we will also specify `random_state` so the plot is reproducible."
   ]
  },
  {
   "cell_type": "code",
   "execution_count": null,
   "metadata": {},
   "outputs": [],
   "source": [
    "mds = MDS(n_components=2, dissimilarity=\"precomputed\", random_state=1)\n",
    "\n",
    "dist = 1 - cosine_similarity(doc2vec_k_means)\n",
    "\n",
    "pos = mds.fit_transform(dist)  # shape (n_components, n_samples)\n",
    "\n",
    "xs, ys = pos[:, 0], pos[:, 1]\n",
    "\n",
    "\n",
    "#set up colors per clusters using a dict.  number of colors must correspond to K\n",
    "cluster_colors = {0: 'black', 1: 'grey', 2: 'blue', 3: 'rosybrown', 4: 'firebrick', \n",
    "                  5:'red', 6:'darksalmon', 7:'sienna'}\n",
    "\n",
    "\n",
    "#set up cluster names using a dict.  \n",
    "cluster_dict=cluster_title         \n",
    "\n",
    "#create data frame that has the result of the MDS plus the cluster numbers and titles\n",
    "df = pd.DataFrame(dict(x=xs, y=ys, label=clusters, title=range(0,len(clusters)))) \n",
    "\n",
    "#group by cluster\n",
    "groups = df.groupby('label')\n",
    "\n",
    "fig, ax = plt.subplots(figsize=(12, 12)) # set size\n",
    "ax.margins(0.05) # Optional, just adds 5% padding to the autoscaling\n",
    "\n",
    "#iterate through groups to layer the plot\n",
    "#note that I use the cluster_name and cluster_color dicts with the 'name' lookup to return the appropriate color/label\n",
    "for name, group in groups:\n",
    "    ax.plot(group.x, group.y, marker='o', linestyle='', ms=12,\n",
    "            label=cluster_dict[name], color=cluster_colors[name], \n",
    "            mec='none')\n",
    "    ax.set_aspect('auto')\n",
    "    ax.tick_params(\\\n",
    "        axis= 'x',          # changes apply to the x-axis\n",
    "        which='both',      # both major and minor ticks are affected\n",
    "        bottom='off',      # ticks along the bottom edge are off\n",
    "        top='off',         # ticks along the top edge are off\n",
    "        labelbottom='on')\n",
    "    ax.tick_params(\\\n",
    "        axis= 'y',         # changes apply to the y-axis\n",
    "        which='both',      # both major and minor ticks are affected\n",
    "        left='off',      # ticks along the bottom edge are off\n",
    "        top='off',         # ticks along the top edge are off\n",
    "        labelleft='on')\n",
    "\n",
    "ax.legend(loc='center left', bbox_to_anchor=(1, 0.5))      #show legend with only 1 point"
   ]
  },
  {
   "cell_type": "markdown",
   "metadata": {},
   "source": [
    "### LDA - topic modeling"
   ]
  },
  {
   "cell_type": "code",
   "execution_count": null,
   "metadata": {},
   "outputs": [],
   "source": [
    "# create empty list to store text documents titles\n",
    "titles=[]\n",
    "\n",
    "#for loop which appends the DSI title to the titles list\n",
    "for i in range(0,len(data)):\n",
    "    temp_text=data['DSI_Title'].iloc[i]\n",
    "    titles.append(temp_text)\n",
    "# create empty list to store text documents\n",
    "text_body=[]\n",
    "\n",
    "# for loop which appends the text to the text_body list\n",
    "for i in range(0,len(data)):\n",
    "    temp_text=data['Text'].iloc[i]\n",
    "    text_body.append(temp_text)\n",
    "\n",
    "# Note: the text_body is the unprocessed list of documents read directly form the csv.\n",
    "# empty list to store processed documents\n",
    "processed_text=[]\n",
    "#for loop to process the text to the processed_text list\n",
    "for i in text_body:\n",
    "    text=clean_doc(i)\n",
    "    processed_text.append(text)\n",
    "# stitch back together individual words to reform body of text\n",
    "final_processed_text=[]\n",
    "\n",
    "for i in processed_text:\n",
    "    temp_DSI=i[0]\n",
    "    for k in range(1,len(i)):\n",
    "        temp_DSI=temp_DSI+' '+i[k]\n",
    "    final_processed_text.append(temp_DSI)\n",
    "# Length of full tokenized corpus\n",
    "len(temp_text)"
   ]
  },
  {
   "cell_type": "code",
   "execution_count": null,
   "metadata": {},
   "outputs": [],
   "source": [
    "# Topic Modeling\n",
    "# LDA using bag of words\n",
    "dictionary = corpora.Dictionary(processed_text)\n",
    "corpus = [dictionary.doc2bow(doc) for doc in processed_text]\n",
    "\n",
    "ldamodel = LdaMulticore(corpus, num_topics=6, id2word=dictionary, passes=10, workers=3)    \n",
    "\n",
    "for idx, topic in ldamodel.print_topics(-1):\n",
    "    print('Topic: {} \\nWords: {}'.format(idx, topic))"
   ]
  },
  {
   "cell_type": "code",
   "execution_count": null,
   "metadata": {},
   "outputs": [],
   "source": [
    "# Compute Perplexity\n",
    "print('\\nPerplexity: ', ldamodel.log_perplexity(corpus))  # a measure of how good the model is. lower the better.\n",
    "\n",
    "from gensim.models import CoherenceModel\n",
    "# Compute Coherence Score\n",
    "coherence_model_lda = CoherenceModel(model=ldamodel, texts=processed_text,dictionary=dictionary, coherence='c_v')\n",
    "coherence_lda = coherence_model_lda.get_coherence()\n",
    "print('\\nCoherence Score: ', coherence_lda)"
   ]
  },
  {
   "cell_type": "code",
   "execution_count": null,
   "metadata": {},
   "outputs": [],
   "source": [
    "pip install pyLDAvis -q"
   ]
  },
  {
   "cell_type": "code",
   "execution_count": null,
   "metadata": {},
   "outputs": [],
   "source": [
    "# Visualize the topics\n",
    "import pyLDAvis\n",
    "import pyLDAvis.gensim  # don't skip this\n",
    "\n",
    "pyLDAvis.enable_notebook()\n",
    "vis = pyLDAvis.gensim.prepare(ldamodel, corpus, dictionary)\n",
    "vis"
   ]
  },
  {
   "cell_type": "code",
   "execution_count": null,
   "metadata": {},
   "outputs": [],
   "source": [
    "#LDA using TFIDF\n",
    "tfidf = TfidfModel(corpus)\n",
    "corpus_tfidf = tfidf[corpus]\n",
    "ldamodel = LdaMulticore(corpus_tfidf, num_topics=6, id2word=dictionary, passes=2, workers=2)    \n",
    "\n",
    "for idx, topic in ldamodel.print_topics(-1):\n",
    "    print('Topic: {} \\nWords: {}'.format(idx, topic))"
   ]
  },
  {
   "cell_type": "markdown",
   "metadata": {},
   "source": [
    "## LSA"
   ]
  },
  {
   "cell_type": "code",
   "execution_count": 9,
   "metadata": {},
   "outputs": [
    {
     "name": "stdout",
     "output_type": "stream",
     "text": [
      "Note: you may need to restart the kernel to use updated packages.\n"
     ]
    }
   ],
   "source": [
    "pip install textblob -q"
   ]
  },
  {
   "cell_type": "code",
   "execution_count": 10,
   "metadata": {},
   "outputs": [],
   "source": [
    "import matplotlib\n",
    "import matplotlib.pyplot as plt\n",
    "import seaborn as sns\n",
    "from textblob import TextBlob"
   ]
  },
  {
   "cell_type": "code",
   "execution_count": 11,
   "metadata": {},
   "outputs": [
    {
     "name": "stdout",
     "output_type": "stream",
     "text": [
      "Unnamed: 0\n",
      "DSI_Title\n",
      "Text\n",
      "President_Name\n",
      "Year_SOTU\n"
     ]
    }
   ],
   "source": [
    "for col in data.columns: \n",
    "    print(col) "
   ]
  },
  {
   "cell_type": "code",
   "execution_count": 12,
   "metadata": {},
   "outputs": [],
   "source": [
    "data_sa = data"
   ]
  },
  {
   "cell_type": "code",
   "execution_count": 13,
   "metadata": {},
   "outputs": [],
   "source": [
    "data_sa.drop(['Unnamed: 0', 'DSI_Title'], axis=1, inplace=True)"
   ]
  },
  {
   "cell_type": "code",
   "execution_count": 14,
   "metadata": {},
   "outputs": [],
   "source": [
    "# Modify dataframe\n",
    "data_sa['Year_SOTU'] = data_sa['Year_SOTU'].astype(int)\n",
    "#df['President_Name'] = potus\n",
    "\n",
    "#create a list of Democrat presidents\n",
    "dems = ['Cleveland', 'Johnson', 'Wilson', 'Roosevelt', 'Truman', 'Kennedy', 'Carter', 'Obama']\n",
    "\n",
    "#add party affiliation to the dataframe\n",
    "data_sa['party'] = data_sa.President_Name.apply(lambda x: 'Democrat' if x in dems else 'Republican')"
   ]
  },
  {
   "cell_type": "code",
   "execution_count": 15,
   "metadata": {},
   "outputs": [],
   "source": [
    "data_sa = data_sa[['Year_SOTU', 'President_Name', 'party', 'Text']]"
   ]
  },
  {
   "cell_type": "code",
   "execution_count": 16,
   "metadata": {},
   "outputs": [],
   "source": [
    "data_sa.rename(columns={'Year_SOTU':'year', 'President_Name':'president', 'Text':'text'}, inplace=True)"
   ]
  },
  {
   "cell_type": "code",
   "execution_count": 17,
   "metadata": {},
   "outputs": [
    {
     "data": {
      "text/html": [
       "<div>\n",
       "<style scoped>\n",
       "    .dataframe tbody tr th:only-of-type {\n",
       "        vertical-align: middle;\n",
       "    }\n",
       "\n",
       "    .dataframe tbody tr th {\n",
       "        vertical-align: top;\n",
       "    }\n",
       "\n",
       "    .dataframe thead th {\n",
       "        text-align: right;\n",
       "    }\n",
       "</style>\n",
       "<table border=\"1\" class=\"dataframe\">\n",
       "  <thead>\n",
       "    <tr style=\"text-align: right;\">\n",
       "      <th></th>\n",
       "      <th>year</th>\n",
       "      <th>president</th>\n",
       "      <th>party</th>\n",
       "      <th>text</th>\n",
       "    </tr>\n",
       "  </thead>\n",
       "  <tbody>\n",
       "    <tr>\n",
       "      <th>0</th>\n",
       "      <td>1982</td>\n",
       "      <td>Reagan</td>\n",
       "      <td>Republican</td>\n",
       "      <td>Mr. Speaker, Mr. President, distinguished Memb...</td>\n",
       "    </tr>\n",
       "    <tr>\n",
       "      <th>1</th>\n",
       "      <td>1914</td>\n",
       "      <td>Wilson</td>\n",
       "      <td>Democrat</td>\n",
       "      <td>GENTLEMEN OF THE CONGRESS:  The session upon w...</td>\n",
       "    </tr>\n",
       "    <tr>\n",
       "      <th>2</th>\n",
       "      <td>1814</td>\n",
       "      <td>Madison</td>\n",
       "      <td>Republican</td>\n",
       "      <td>Fellow-Citizens of the Senate and House of Rep...</td>\n",
       "    </tr>\n",
       "    <tr>\n",
       "      <th>3</th>\n",
       "      <td>1969</td>\n",
       "      <td>Johnson</td>\n",
       "      <td>Democrat</td>\n",
       "      <td>Mr. Speaker, Mr. President, Members of the Con...</td>\n",
       "    </tr>\n",
       "    <tr>\n",
       "      <th>4</th>\n",
       "      <td>1930</td>\n",
       "      <td>Hoover</td>\n",
       "      <td>Republican</td>\n",
       "      <td>To the Senate and House of Representatives:  I...</td>\n",
       "    </tr>\n",
       "  </tbody>\n",
       "</table>\n",
       "</div>"
      ],
      "text/plain": [
       "   year president       party                                               text\n",
       "0  1982    Reagan  Republican  Mr. Speaker, Mr. President, distinguished Memb...\n",
       "1  1914    Wilson    Democrat  GENTLEMEN OF THE CONGRESS:  The session upon w...\n",
       "2  1814   Madison  Republican  Fellow-Citizens of the Senate and House of Rep...\n",
       "3  1969   Johnson    Democrat  Mr. Speaker, Mr. President, Members of the Con...\n",
       "4  1930    Hoover  Republican  To the Senate and House of Representatives:  I..."
      ]
     },
     "execution_count": 17,
     "metadata": {},
     "output_type": "execute_result"
    }
   ],
   "source": [
    "data_sa.head()"
   ]
  },
  {
   "cell_type": "code",
   "execution_count": 18,
   "metadata": {},
   "outputs": [],
   "source": [
    "#use textblob to perform a sentiment analysis of each speech\n",
    "data_sa['sentiment'] = data_sa['text'].apply(lambda speech: TextBlob(speech).sentiment.polarity)"
   ]
  },
  {
   "cell_type": "code",
   "execution_count": 19,
   "metadata": {},
   "outputs": [
    {
     "data": {
      "text/plain": [
       "Text(0.5, 19.799999999999983, 'Year')"
      ]
     },
     "execution_count": 19,
     "metadata": {},
     "output_type": "execute_result"
    },
    {
     "data": {
      "text/plain": [
       "Text(25.3660763888889, 0.5, 'Sentiment')"
      ]
     },
     "execution_count": 19,
     "metadata": {},
     "output_type": "execute_result"
    },
    {
     "data": {
      "text/plain": [
       "Text(0.5, 1, 'SotU Sentiment Analysis by President')"
      ]
     },
     "execution_count": 19,
     "metadata": {},
     "output_type": "execute_result"
    },
    {
     "data": {
      "image/png": "[encoded data removed]",
      "text/plain": [
       "<Figure size 989.375x360 with 1 Axes>"
      ]
     },
     "metadata": {},
     "output_type": "display_data"
    }
   ],
   "source": [
    "#plot sentiment analysis data\n",
    "sns.set_style(\"whitegrid\", {'axes.grid' : True})\n",
    "\n",
    "g = sns.lmplot(x=\"year\", y=\"sentiment\", hue=\"president\", aspect=2.5, truncate=True, data=data_sa)\n",
    "g._legend.set_title('President')\n",
    "plt.xlabel('Year')\n",
    "plt.ylabel('Sentiment')\n",
    "plt.title('SotU Sentiment Analysis by President')\n",
    "\n",
    "plt.show()"
   ]
  },
  {
   "cell_type": "code",
   "execution_count": 20,
   "metadata": {},
   "outputs": [],
   "source": [
    "economic_df = pd.read_csv(\"https://raw.githubusercontent.com/ksenluu/NU_453_NLP/master/Data/gdp_data.csv\")"
   ]
  },
  {
   "cell_type": "code",
   "execution_count": 21,
   "metadata": {},
   "outputs": [],
   "source": [
    "data_sa = data_sa.merge(economic_df, how='left', on='year')\n"
   ]
  },
  {
   "cell_type": "code",
   "execution_count": 22,
   "metadata": {},
   "outputs": [],
   "source": [
    "data_sa.rename(columns={'GDP Growth Rate':'gdp_rate'}, inplace=True)"
   ]
  },
  {
   "cell_type": "code",
   "execution_count": 23,
   "metadata": {},
   "outputs": [
    {
     "data": {
      "text/html": [
       "<div>\n",
       "<style scoped>\n",
       "    .dataframe tbody tr th:only-of-type {\n",
       "        vertical-align: middle;\n",
       "    }\n",
       "\n",
       "    .dataframe tbody tr th {\n",
       "        vertical-align: top;\n",
       "    }\n",
       "\n",
       "    .dataframe thead th {\n",
       "        text-align: right;\n",
       "    }\n",
       "</style>\n",
       "<table border=\"1\" class=\"dataframe\">\n",
       "  <thead>\n",
       "    <tr style=\"text-align: right;\">\n",
       "      <th></th>\n",
       "      <th>year</th>\n",
       "      <th>president</th>\n",
       "      <th>party</th>\n",
       "      <th>text</th>\n",
       "      <th>sentiment</th>\n",
       "      <th>gdp_rate</th>\n",
       "    </tr>\n",
       "  </thead>\n",
       "  <tbody>\n",
       "    <tr>\n",
       "      <th>0</th>\n",
       "      <td>1930</td>\n",
       "      <td>Hoover</td>\n",
       "      <td>Republican</td>\n",
       "      <td>To the Senate and House of Representatives:  I...</td>\n",
       "      <td>0.082816</td>\n",
       "      <td>-6.4</td>\n",
       "    </tr>\n",
       "    <tr>\n",
       "      <th>1</th>\n",
       "      <td>1932</td>\n",
       "      <td>Hoover</td>\n",
       "      <td>Republican</td>\n",
       "      <td>To the Senate and House of Representatives:  I...</td>\n",
       "      <td>0.128491</td>\n",
       "      <td>-1.3</td>\n",
       "    </tr>\n",
       "    <tr>\n",
       "      <th>2</th>\n",
       "      <td>1934</td>\n",
       "      <td>Roosevelt</td>\n",
       "      <td>Democrat</td>\n",
       "      <td>Mr. President, Mr. Speaker, Senators and Repre...</td>\n",
       "      <td>0.118513</td>\n",
       "      <td>8.9</td>\n",
       "    </tr>\n",
       "    <tr>\n",
       "      <th>3</th>\n",
       "      <td>1935</td>\n",
       "      <td>Roosevelt</td>\n",
       "      <td>Democrat</td>\n",
       "      <td>Mr. President, Mr. Speaker, Members of the Sen...</td>\n",
       "      <td>0.128568</td>\n",
       "      <td>12.9</td>\n",
       "    </tr>\n",
       "    <tr>\n",
       "      <th>4</th>\n",
       "      <td>1936</td>\n",
       "      <td>Roosevelt</td>\n",
       "      <td>Democrat</td>\n",
       "      <td>Mr. President, Mr. Speaker, Members of the Sen...</td>\n",
       "      <td>0.154848</td>\n",
       "      <td>5.1</td>\n",
       "    </tr>\n",
       "  </tbody>\n",
       "</table>\n",
       "</div>"
      ],
      "text/plain": [
       "   year  president       party                                               text  sentiment  gdp_rate\n",
       "0  1930     Hoover  Republican  To the Senate and House of Representatives:  I...   0.082816      -6.4\n",
       "1  1932     Hoover  Republican  To the Senate and House of Representatives:  I...   0.128491      -1.3\n",
       "2  1934  Roosevelt    Democrat  Mr. President, Mr. Speaker, Senators and Repre...   0.118513       8.9\n",
       "3  1935  Roosevelt    Democrat  Mr. President, Mr. Speaker, Members of the Sen...   0.128568      12.9\n",
       "4  1936  Roosevelt    Democrat  Mr. President, Mr. Speaker, Members of the Sen...   0.154848       5.1"
      ]
     },
     "execution_count": 23,
     "metadata": {},
     "output_type": "execute_result"
    }
   ],
   "source": [
    "data_sa = data_sa[data_sa['gdp_rate'].notna()].sort_values('year').reset_index(drop=True)\n",
    "data_sa.head() "
   ]
  },
  {
   "cell_type": "code",
   "execution_count": 24,
   "metadata": {},
   "outputs": [
    {
     "data": {
      "text/plain": [
       "Text(0.5, 19.799999999999983, 'Year')"
      ]
     },
     "execution_count": 24,
     "metadata": {},
     "output_type": "execute_result"
    },
    {
     "data": {
      "text/plain": [
       "Text(23.941350694444452, 0.5, '% GDP Growth Rate')"
      ]
     },
     "execution_count": 24,
     "metadata": {},
     "output_type": "execute_result"
    },
    {
     "data": {
      "text/plain": [
       "Text(0.5, 1, 'GDP Growth Rate by Year')"
      ]
     },
     "execution_count": 24,
     "metadata": {},
     "output_type": "execute_result"
    },
    {
     "data": {
      "image/png": "[encoded data removed]",
      "text/plain": [
       "<Figure size 988.375x360 with 1 Axes>"
      ]
     },
     "metadata": {},
     "output_type": "display_data"
    }
   ],
   "source": [
    "#plot GDP growth data\n",
    "g1 = sns.lmplot(x=\"year\", y=\"gdp_rate\", hue=\"president\", aspect=2.5, truncate=True, data=data_sa)\n",
    "g1._legend.set_title('President')\n",
    "plt.xlabel('Year')\n",
    "plt.ylabel('% GDP Growth Rate')\n",
    "plt.title('GDP Growth Rate by Year')\n",
    "\n",
    "plt.show()"
   ]
  },
  {
   "cell_type": "code",
   "execution_count": 25,
   "metadata": {},
   "outputs": [
    {
     "data": {
      "text/plain": [
       "Text(0.5, 1.0, 'SotU Sentiment Analysis by President vs GDP Growth Rate')"
      ]
     },
     "execution_count": 25,
     "metadata": {},
     "output_type": "execute_result"
    },
    {
     "data": {
      "text/plain": [
       "Text(0.5, 0, 'Year')"
      ]
     },
     "execution_count": 25,
     "metadata": {},
     "output_type": "execute_result"
    },
    {
     "data": {
      "text/plain": [
       "Text(0, 0.5, 'SoTu Sentiment Value')"
      ]
     },
     "execution_count": 25,
     "metadata": {},
     "output_type": "execute_result"
    },
    {
     "data": {
      "text/plain": [
       "Text(0, 0.5, '% GDP Growth Rate')"
      ]
     },
     "execution_count": 25,
     "metadata": {},
     "output_type": "execute_result"
    },
    {
     "data": {
      "image/png": "[encoded data removed]",
      "text/plain": [
       "<Figure size 1152x648 with 2 Axes>"
      ]
     },
     "metadata": {},
     "output_type": "display_data"
    }
   ],
   "source": [
    "# Set black background\n",
    "#plt.style.use(\"dark_background\")\n",
    "\n",
    "# Create combo chart\n",
    "fig, ax1 = plt.subplots(figsize=(16,9))\n",
    "# Plot 1 creation\n",
    "ax1.set_title('SotU Sentiment Analysis by President vs GDP Growth Rate', fontsize=22)\n",
    "\n",
    "ax2 = sns.lineplot(x='year', y='sentiment', data = data_sa, color='tab:green')\n",
    "ax1.set_xlabel('Year', fontsize=16)\n",
    "ax1.set_ylabel('SoTu Sentiment Value', fontsize=16, color='tab:orange')\n",
    "ax1.tick_params(axis='y')\n",
    "\n",
    "ax1.grid(alpha=.4)\n",
    "\n",
    "# Specify to share the same x-axis\n",
    "ax2 = ax1.twinx()\n",
    "\n",
    "# Plot 2 creation\n",
    "ax2 = sns.lineplot(x='year', y='gdp_rate', data = data_sa, sort=False, color='tab:orange')\n",
    "ax2.set_ylabel('% GDP Growth Rate', fontsize=16, color='tab:green')\n",
    "ax2.tick_params(axis='y')\n",
    "\n",
    "#show plot\n",
    "plt.show()"
   ]
  },
  {
   "cell_type": "code",
   "execution_count": 26,
   "metadata": {},
   "outputs": [
    {
     "data": {
      "text/plain": [
       "array([[ 1.        , -0.14456011],\n",
       "       [-0.14456011,  1.        ]])"
      ]
     },
     "execution_count": 26,
     "metadata": {},
     "output_type": "execute_result"
    }
   ],
   "source": [
    "import numpy as np\n",
    "np.corrcoef(data_sa.sentiment, data_sa.gdp_rate)"
   ]
  },
  {
   "cell_type": "code",
   "execution_count": 27,
   "metadata": {},
   "outputs": [
    {
     "data": {
      "text/plain": [
       "<matplotlib.collections.PathCollection at 0x1a2003a250>"
      ]
     },
     "execution_count": 27,
     "metadata": {},
     "output_type": "execute_result"
    },
    {
     "data": {
      "image/png": "[encoded data removed]",
      "text/plain": [
       "<Figure size 432x288 with 1 Axes>"
      ]
     },
     "metadata": {},
     "output_type": "display_data"
    }
   ],
   "source": [
    "plt.scatter(data_sa.sentiment, data_sa.gdp_rate)\n",
    "plt.show()"
   ]
  },
  {
   "cell_type": "code",
   "execution_count": 28,
   "metadata": {},
   "outputs": [],
   "source": [
    "employment_df = pd.read_csv(\"https://raw.githubusercontent.com/ksenluu/NU_453_NLP/master/Data/unemployment_data.csv\")"
   ]
  },
  {
   "cell_type": "code",
   "execution_count": 29,
   "metadata": {},
   "outputs": [],
   "source": [
    "data_sa_emp = data_sa.merge(employment_df, how='left', on='year')\n"
   ]
  },
  {
   "cell_type": "code",
   "execution_count": 30,
   "metadata": {},
   "outputs": [],
   "source": [
    "data_sa_emp['rate'] = data_sa_emp['rate']*100"
   ]
  },
  {
   "cell_type": "code",
   "execution_count": 31,
   "metadata": {},
   "outputs": [],
   "source": [
    "data_sa_emp.rename(columns={'rate':'unemployment_rate'}, inplace=True)"
   ]
  },
  {
   "cell_type": "code",
   "execution_count": 32,
   "metadata": {},
   "outputs": [
    {
     "data": {
      "text/html": [
       "<div>\n",
       "<style scoped>\n",
       "    .dataframe tbody tr th:only-of-type {\n",
       "        vertical-align: middle;\n",
       "    }\n",
       "\n",
       "    .dataframe tbody tr th {\n",
       "        vertical-align: top;\n",
       "    }\n",
       "\n",
       "    .dataframe thead th {\n",
       "        text-align: right;\n",
       "    }\n",
       "</style>\n",
       "<table border=\"1\" class=\"dataframe\">\n",
       "  <thead>\n",
       "    <tr style=\"text-align: right;\">\n",
       "      <th></th>\n",
       "      <th>year</th>\n",
       "      <th>president</th>\n",
       "      <th>party</th>\n",
       "      <th>text</th>\n",
       "      <th>sentiment</th>\n",
       "      <th>gdp_rate</th>\n",
       "      <th>unemployment_rate</th>\n",
       "    </tr>\n",
       "  </thead>\n",
       "  <tbody>\n",
       "    <tr>\n",
       "      <th>0</th>\n",
       "      <td>1948</td>\n",
       "      <td>Truman</td>\n",
       "      <td>Democrat</td>\n",
       "      <td>Mr. President, Mr. Speaker, and Members of the...</td>\n",
       "      <td>0.167392</td>\n",
       "      <td>-0.5</td>\n",
       "      <td>4.0</td>\n",
       "    </tr>\n",
       "    <tr>\n",
       "      <th>1</th>\n",
       "      <td>1949</td>\n",
       "      <td>Truman</td>\n",
       "      <td>Democrat</td>\n",
       "      <td>Mr. President, Mr. Speaker, Members of the Con...</td>\n",
       "      <td>0.154764</td>\n",
       "      <td>8.7</td>\n",
       "      <td>6.6</td>\n",
       "    </tr>\n",
       "    <tr>\n",
       "      <th>2</th>\n",
       "      <td>1950</td>\n",
       "      <td>Truman</td>\n",
       "      <td>Democrat</td>\n",
       "      <td>Mr. President, Mr. Speaker, Members of the Con...</td>\n",
       "      <td>0.181532</td>\n",
       "      <td>8.1</td>\n",
       "      <td>4.3</td>\n",
       "    </tr>\n",
       "    <tr>\n",
       "      <th>3</th>\n",
       "      <td>1951</td>\n",
       "      <td>Truman</td>\n",
       "      <td>Democrat</td>\n",
       "      <td>Mr. President, Mr. Speaker, Members of the Con...</td>\n",
       "      <td>0.198093</td>\n",
       "      <td>4.1</td>\n",
       "      <td>3.1</td>\n",
       "    </tr>\n",
       "    <tr>\n",
       "      <th>4</th>\n",
       "      <td>1952</td>\n",
       "      <td>Truman</td>\n",
       "      <td>Democrat</td>\n",
       "      <td>Mr. President, Mr. Speaker, Members of the Con...</td>\n",
       "      <td>0.175190</td>\n",
       "      <td>4.7</td>\n",
       "      <td>2.7</td>\n",
       "    </tr>\n",
       "  </tbody>\n",
       "</table>\n",
       "</div>"
      ],
      "text/plain": [
       "   year president     party                                               text  sentiment  gdp_rate  unemployment_rate\n",
       "0  1948    Truman  Democrat  Mr. President, Mr. Speaker, and Members of the...   0.167392      -0.5                4.0\n",
       "1  1949    Truman  Democrat  Mr. President, Mr. Speaker, Members of the Con...   0.154764       8.7                6.6\n",
       "2  1950    Truman  Democrat  Mr. President, Mr. Speaker, Members of the Con...   0.181532       8.1                4.3\n",
       "3  1951    Truman  Democrat  Mr. President, Mr. Speaker, Members of the Con...   0.198093       4.1                3.1\n",
       "4  1952    Truman  Democrat  Mr. President, Mr. Speaker, Members of the Con...   0.175190       4.7                2.7"
      ]
     },
     "execution_count": 32,
     "metadata": {},
     "output_type": "execute_result"
    }
   ],
   "source": [
    "data_sa_emp = data_sa_emp[data_sa_emp['unemployment_rate'].notna()].sort_values('year').reset_index(drop=True)\n",
    "data_sa_emp.head() "
   ]
  },
  {
   "cell_type": "code",
   "execution_count": 33,
   "metadata": {},
   "outputs": [
    {
     "data": {
      "text/plain": [
       "<Figure size 648x360 with 0 Axes>"
      ]
     },
     "execution_count": 33,
     "metadata": {},
     "output_type": "execute_result"
    },
    {
     "data": {
      "text/plain": [
       "<matplotlib.axes._subplots.AxesSubplot at 0x1a1ffd6150>"
      ]
     },
     "execution_count": 33,
     "metadata": {},
     "output_type": "execute_result"
    },
    {
     "data": {
      "text/plain": [
       "Text(0.5, 0, 'Unemployment Rate')"
      ]
     },
     "execution_count": 33,
     "metadata": {},
     "output_type": "execute_result"
    },
    {
     "data": {
      "text/plain": [
       "Text(0, 0.5, 'Sentiment')"
      ]
     },
     "execution_count": 33,
     "metadata": {},
     "output_type": "execute_result"
    },
    {
     "data": {
      "image/png": "[encoded data removed]",
      "text/plain": [
       "<Figure size 648x360 with 1 Axes>"
      ]
     },
     "metadata": {},
     "output_type": "display_data"
    }
   ],
   "source": [
    "plt.figure(figsize=(9, 5))\n",
    "\n",
    "#plt.subplot(121)\n",
    "#sns.regplot(df.gdp_rate, df.sentiment)\n",
    "#plt.xlabel('GDP Growth Rate')\n",
    "#plt.ylabel('Sentiment')\n",
    "\n",
    "#plt.subplot(122)\n",
    "sns.regplot(data_sa_emp.unemployment_rate, data_sa_emp.sentiment)\n",
    "plt.xlabel('Unemployment Rate')\n",
    "plt.ylabel('Sentiment')\n",
    "\n",
    "plt.show()"
   ]
  },
  {
   "cell_type": "code",
   "execution_count": 35,
   "metadata": {},
   "outputs": [
    {
     "name": "stdout",
     "output_type": "stream",
     "text": [
      "Sentiment-Unemployment Correleation: (-0.42414893268908843, 0.005120527843619492)\n"
     ]
    }
   ],
   "source": [
    "from scipy.stats import pearsonr\n",
    "\n",
    "print('Sentiment-Unemployment Correleation:', pearsonr(data_sa_emp.unemployment_rate, data_sa_emp.sentiment))"
   ]
  },
  {
   "cell_type": "markdown",
   "metadata": {},
   "source": [
    "## Term Frequency by Decade\n"
   ]
  },
  {
   "cell_type": "code",
   "execution_count": null,
   "metadata": {},
   "outputs": [],
   "source": [
    "# Create copy of Matrix \n",
    "matrix_decade = matrix.copy()\n",
    "matrix_decade.index.name = ''\n",
    "# matrix_decade.head(10)\n",
    "\n",
    "# Rename Index\n",
    "matrix_decade.index.name = \"DSI_Title\"\n",
    "\n",
    "# Reset Index\n",
    "matrix_decade = matrix_decade.reset_index()"
   ]
  },
  {
   "cell_type": "code",
   "execution_count": null,
   "metadata": {},
   "outputs": [],
   "source": [
    "# Parse string to turn year of SOTU speech to a decade format\n",
    "matrix_decade['DSI_Title'] = matrix_decade.DSI_Title.str.replace(r\"[a-zA-Z._]\",'')\n",
    "matrix_decade['DSI_Title'] = matrix_decade['DSI_Title'].str.slice(0,3)\n",
    "matrix_decade['DSI_Title'] = matrix_decade['DSI_Title'] + '0'"
   ]
  },
  {
   "cell_type": "code",
   "execution_count": null,
   "metadata": {},
   "outputs": [],
   "source": [
    "# Group and sum the terms by decade of SOTU speech\n",
    "matrix_decade_t = matrix_decade_t.groupby(axis=1, level=0).sum()\n",
    "matrix_decade_t.head()"
   ]
  },
  {
   "cell_type": "code",
   "execution_count": null,
   "metadata": {
    "scrolled": true
   },
   "outputs": [],
   "source": [
    "# Create dataframe for each decade for further analysis\n",
    "\n",
    "matrix_decade_1790 = matrix_decade_t.groupby(axis=1, level=0).sum().nlargest(10, ['1790'])\n",
    "matrix_decade_1790 = matrix_decade_1790.loc[:, ['1790']]\n",
    "matrix_decade_1790\n",
    "\n",
    "matrix_decade_1800 = matrix_decade_t.groupby(axis=1, level=0).sum().nlargest(10, ['1800'])\n",
    "matrix_decade_1800 = matrix_decade_1800.loc[:, ['1800']]\n",
    "matrix_decade_1800\n",
    "\n",
    "matrix_decade_1810 = matrix_decade_t.groupby(axis=1, level=0).sum().nlargest(10, ['1810'])\n",
    "matrix_decade_1810 = matrix_decade_1810.loc[:, ['1810']]\n",
    "matrix_decade_1810\n",
    "\n",
    "matrix_decade_1820 = matrix_decade_t.groupby(axis=1, level=0).sum().nlargest(10, ['1820'])\n",
    "matrix_decade_1820 = matrix_decade_1820.loc[:, ['1820']]\n",
    "matrix_decade_1820\n",
    "\n",
    "matrix_decade_1870 = matrix_decade_t.groupby(axis=1, level=0).sum().nlargest(10, ['1870'])\n",
    "matrix_decade_1870 = matrix_decade_1870.loc[:, ['1870']]\n",
    "matrix_decade_1870\n",
    "\n",
    "matrix_decade_1880 = matrix_decade_t.groupby(axis=1, level=0).sum().nlargest(10, ['1880'])\n",
    "matrix_decade_1880 = matrix_decade_1880.loc[:, ['1880']]\n",
    "matrix_decade_1880\n",
    "\n",
    "matrix_decade_1910 = matrix_decade_t.groupby(axis=1, level=0).sum().nlargest(10, ['1910'])\n",
    "matrix_decade_1910 = matrix_decade_1910.loc[:, ['1910']]\n",
    "matrix_decade_1910\n",
    "\n",
    "matrix_decade_1920 = matrix_decade_t.groupby(axis=1, level=0).sum().nlargest(10, ['1920'])\n",
    "matrix_decade_1920 = matrix_decade_1920.loc[:, ['1920']]\n",
    "matrix_decade_1920\n",
    "\n",
    "matrix_decade_1930 = matrix_decade_t.groupby(axis=1, level=0).sum().nlargest(10, ['1930'])\n",
    "matrix_decade_1930 = matrix_decade_1930.loc[:, ['1930']]\n",
    "matrix_decade_1930\n",
    "\n",
    "matrix_decade_1940 = matrix_decade_t.groupby(axis=1, level=0).sum().nlargest(10, ['1940'])\n",
    "matrix_decade_1940 = matrix_decade_1940.loc[:, ['1940']]\n",
    "matrix_decade_1940\n",
    "\n",
    "matrix_decade_1950 = matrix_decade_t.groupby(axis=1, level=0).sum().nlargest(10, ['1950'])\n",
    "matrix_decade_1950 = matrix_decade_1950.loc[:, ['1950']]\n",
    "matrix_decade_1950\n",
    "\n",
    "matrix_decade_1960 = matrix_decade_t.groupby(axis=1, level=0).sum().nlargest(10, ['1960'])\n",
    "matrix_decade_1960 = matrix_decade_1960.loc[:, ['1960']]\n",
    "matrix_decade_1960\n",
    "\n",
    "matrix_decade_1970 = matrix_decade_t.groupby(axis=1, level=0).sum().nlargest(10, ['1970'])\n",
    "matrix_decade_1970 = matrix_decade_1970.loc[:, ['1970']]\n",
    "matrix_decade_1970\n",
    "\n",
    "matrix_decade_1980 = matrix_decade_t.groupby(axis=1, level=0).sum().nlargest(10, ['1980'])\n",
    "matrix_decade_1980 = matrix_decade_1980.loc[:, ['1980']]\n",
    "matrix_decade_1980\n",
    "\n",
    "matrix_decade_1990 = matrix_decade_t.groupby(axis=1, level=0).sum().nlargest(10, ['1990'])\n",
    "matrix_decade_1990 = matrix_decade_1990.loc[:, ['1990']]\n",
    "matrix_decade_1990\n",
    "\n",
    "matrix_decade_2000 = matrix_decade_t.groupby(axis=1, level=0).sum().nlargest(10, ['2000'])\n",
    "matrix_decade_2000 = matrix_decade_2000.loc[:, ['2000']]\n",
    "matrix_decade_2000\n",
    "\n",
    "matrix_decade_2010 = matrix_decade_t.groupby(axis=1, level=0).sum().nlargest(10, ['2010'])\n",
    "matrix_decade_2010 = matrix_decade_2010.loc[:, ['2010']]\n",
    "matrix_decade_2010"
   ]
  },
  {
   "cell_type": "code",
   "execution_count": null,
   "metadata": {},
   "outputs": [],
   "source": [
    "# Merge dataframes into one table to show overlaps between decades\n",
    "matrix_decade_merge = pd.concat([matrix_decade_1790, matrix_decade_1800, matrix_decade_1810, matrix_decade_1820, matrix_decade_1870, matrix_decade_1880, matrix_decade_1910, matrix_decade_1920, matrix_decade_1930, matrix_decade_1940, matrix_decade_1950, matrix_decade_1960, matrix_decade_1970, matrix_decade_1980, matrix_decade_1990, matrix_decade_2000, matrix_decade_2010], axis=1, sort=False)\n",
    "\n",
    "# Replace NaN values with 0\n",
    "matrix_decade_merge = matrix_decade_merge.replace(np.nan,0)\n",
    "\n",
    "# Round numbers to 3 decimal places\n",
    "matrix_decade_merge = matrix_decade_merge.round(decimals=3)"
   ]
  },
  {
   "cell_type": "code",
   "execution_count": null,
   "metadata": {},
   "outputs": [],
   "source": [
    "matrix_decade_merge"
   ]
  },
  {
   "cell_type": "code",
   "execution_count": null,
   "metadata": {},
   "outputs": [],
   "source": [
    "clrs = ['grey' if (x < max(matrix_decade_1790['1790'])) else 'red' for x in matrix_decade_1790['1790']]\n",
    "sns.barplot(data = matrix_decade_1790.reset_index(), x='index',y='1790', palette=clrs)"
   ]
  },
  {
   "cell_type": "code",
   "execution_count": null,
   "metadata": {},
   "outputs": [],
   "source": [
    "matrix_decade_1790.reset_index().plot(kind='barh', x='index', y='1790')"
   ]
  },
  {
   "cell_type": "code",
   "execution_count": null,
   "metadata": {},
   "outputs": [],
   "source": []
  }
 ],
 "metadata": {
  "kernelspec": {
   "display_name": "Python 3",
   "language": "python",
   "name": "python3"
  },
  "language_info": {
   "codemirror_mode": {
    "name": "ipython",
    "version": 3
   },
   "file_extension": ".py",
   "mimetype": "text/x-python",
   "name": "python",
   "nbconvert_exporter": "python",
   "pygments_lexer": "ipython3",
   "version": "3.7.6"
  },
  "toc": {
   "base_numbering": 1,
   "nav_menu": {},
   "number_sections": true,
   "sideBar": true,
   "skip_h1_title": false,
   "title_cell": "Table of Contents",
   "title_sidebar": "Contents",
   "toc_cell": false,
   "toc_position": {},
   "toc_section_display": true,
   "toc_window_display": false
  }
 },
 "nbformat": 4,
 "nbformat_minor": 2
}
