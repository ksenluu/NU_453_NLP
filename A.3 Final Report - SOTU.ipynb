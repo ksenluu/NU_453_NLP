{
 "cells": [
  {
   "cell_type": "code",
   "execution_count": 1,
   "metadata": {},
   "outputs": [],
   "source": [
    "###############################################################################\n",
    "### A.3: Final Report: SOTU\n",
    "###############################################################################"
   ]
  },
  {
   "cell_type": "code",
   "execution_count": 2,
   "metadata": {},
   "outputs": [
    {
     "name": "stderr",
     "output_type": "stream",
     "text": "[nltk_data] Downloading package stopwords to\n[nltk_data]     /Users/aliagowani/nltk_data...\n[nltk_data]   Package stopwords is already up-to-date!\n"
    }
   ],
   "source": [
    "###############################################################################\n",
    "### Load Libraries\n",
    "###############################################################################\n",
    "\n",
    "import re,string\n",
    "from nltk.corpus import stopwords\n",
    "from nltk.stem import PorterStemmer\n",
    "\n",
    "# import nltk.download\n",
    "# from nltk.download import stopwords\n",
    "\n",
    "import nltk\n",
    "nltk.download('stopwords')\n",
    "\n",
    "from sklearn.feature_extraction.text import TfidfVectorizer\n",
    "from sklearn.cluster import KMeans\n",
    "from sklearn.metrics.pairwise import cosine_similarity\n",
    "\n",
    "from sklearn.manifold import MDS\n",
    "\n",
    "from sklearn.preprocessing import LabelEncoder, OneHotEncoder\n",
    "from sklearn.ensemble import RandomForestClassifier\n",
    "from sklearn.metrics import roc_auc_score, accuracy_score, confusion_matrix\n",
    "from sklearn.model_selection import cross_val_score, StratifiedKFold\n",
    "from sklearn.tree import DecisionTreeClassifier\n",
    "import matplotlib.pyplot as plt\n",
    "from sklearn.model_selection import train_test_split, KFold\n",
    "\n",
    "import pandas as pd\n",
    "import os\n",
    "\n",
    "from gensim.models import Word2Vec,LdaMulticore, TfidfModel\n",
    "from gensim import corpora\n",
    "\n",
    "from gensim.models.doc2vec import Doc2Vec, TaggedDocument\n",
    "\n",
    "import numpy as np"
   ]
  },
  {
   "cell_type": "code",
   "execution_count": 3,
   "metadata": {},
   "outputs": [],
   "source": [
    "# Functionality to turn stemming on or off\n",
    "STEMMING = False\n",
    "NGRAM_LENGTH = 2"
   ]
  },
  {
   "cell_type": "code",
   "execution_count": 4,
   "metadata": {},
   "outputs": [],
   "source": [
    "###############################################################################\n",
    "### Function to process documents\n",
    "###############################################################################\n",
    "\n",
    "def clean_doc(doc): \n",
    "    #split document into individual words\n",
    "    tokens=doc.split()\n",
    "    re_punc = re.compile('[%s]' % re.escape(string.punctuation))\n",
    "    # remove punctuation from each word\n",
    "    tokens = [re_punc.sub('', w) for w in tokens]\n",
    "    # remove remaining tokens that are not alphabetic\n",
    "    tokens = [word for word in tokens if word.isalpha()]\n",
    "    # filter out short tokens\n",
    "    tokens = [word for word in tokens if len(word) > 4]\n",
    "    #lowercase all words\n",
    "    tokens = [word.lower() for word in tokens]\n",
    "    # filter out stop words\n",
    "    stop_words = set(stopwords.words('english'))\n",
    "    tokens = [w for w in tokens if not w in stop_words]         \n",
    "    # word stemming    \n",
    "    if STEMMING:\n",
    "        ps=PorterStemmer()\n",
    "        tokens=[ps.stem(word) for word in tokens]\n",
    "    return tokens"
   ]
  },
  {
   "cell_type": "code",
   "execution_count": 5,
   "metadata": {},
   "outputs": [],
   "source": [
    "###############################################################################\n",
    "#   Functions to label encoding\n",
    "###############################################################################\n",
    "\n",
    "def One_Hot(variable):\n",
    "    LE=LabelEncoder()\n",
    "    LE.fit(variable)\n",
    "    Label1=LE.transform(variable)\n",
    "    OHE=OneHotEncoder()\n",
    "    labels=OHE.fit_transform(Label1.reshape(-1,1)).toarray()\n",
    "    return labels, LE, OHE"
   ]
  },
  {
   "cell_type": "code",
   "execution_count": 7,
   "metadata": {},
   "outputs": [],
   "source": [
    "###############################################################################\n",
    "### Read sotu_corpus.csv file from github\n",
    "###############################################################################\n",
    "\n",
    "# read in class corpus csv into python\n",
    "data = pd.read_csv(\"https://raw.githubusercontent.com/ksenluu/NU_453_NLP/master/sotu_corpus_small.csv?token=AMLWIYVGE6RYFKK7WY3QFOK6KCVNK\")"
   ]
  },
  {
   "cell_type": "code",
   "execution_count": 16,
   "metadata": {},
   "outputs": [
    {
     "data": {
      "text/html": "<div>\n<style scoped>\n    .dataframe tbody tr th:only-of-type {\n        vertical-align: middle;\n    }\n\n    .dataframe tbody tr th {\n        vertical-align: top;\n    }\n\n    .dataframe thead th {\n        text-align: right;\n    }\n</style>\n<table border=\"1\" class=\"dataframe\">\n  <thead>\n    <tr style=\"text-align: right;\">\n      <th></th>\n      <th>Unnamed: 0</th>\n      <th>DSI_Title</th>\n      <th>Text</th>\n      <th>President_Name</th>\n      <th>Year_SOTU</th>\n    </tr>\n  </thead>\n  <tbody>\n    <tr>\n      <th>0</th>\n      <td>0</td>\n      <td>Reagan_1982.txt</td>\n      <td>Mr. Speaker, Mr. President, distinguished Memb...</td>\n      <td>Reagan</td>\n      <td>1982</td>\n    </tr>\n    <tr>\n      <th>1</th>\n      <td>1</td>\n      <td>Wilson_1914.txt</td>\n      <td>GENTLEMEN OF THE CONGRESS:  The session upon w...</td>\n      <td>Wilson</td>\n      <td>1914</td>\n    </tr>\n    <tr>\n      <th>2</th>\n      <td>2</td>\n      <td>Madison_1814.txt</td>\n      <td>Fellow-Citizens of the Senate and House of Rep...</td>\n      <td>Madison</td>\n      <td>1814</td>\n    </tr>\n    <tr>\n      <th>3</th>\n      <td>3</td>\n      <td>Johnson_1969.txt</td>\n      <td>Mr. Speaker, Mr. President, Members of the Con...</td>\n      <td>Johnson</td>\n      <td>1969</td>\n    </tr>\n    <tr>\n      <th>4</th>\n      <td>4</td>\n      <td>Hoover_1930.txt</td>\n      <td>To the Senate and House of Representatives:  I...</td>\n      <td>Hoover</td>\n      <td>1930</td>\n    </tr>\n  </tbody>\n</table>\n</div>",
      "text/plain": "   Unnamed: 0         DSI_Title  \\\n0           0   Reagan_1982.txt   \n1           1   Wilson_1914.txt   \n2           2  Madison_1814.txt   \n3           3  Johnson_1969.txt   \n4           4   Hoover_1930.txt   \n\n                                                Text President_Name Year_SOTU  \n0  Mr. Speaker, Mr. President, distinguished Memb...         Reagan      1982  \n1  GENTLEMEN OF THE CONGRESS:  The session upon w...         Wilson      1914  \n2  Fellow-Citizens of the Senate and House of Rep...        Madison      1814  \n3  Mr. Speaker, Mr. President, Members of the Con...        Johnson      1969  \n4  To the Senate and House of Representatives:  I...         Hoover      1930  "
     },
     "execution_count": 16,
     "metadata": {},
     "output_type": "execute_result"
    }
   ],
   "source": [
    "# new data frame with split value columns \n",
    "new = data[\"DSI_Title\"].str.split(\"_\", n = 1, expand = True) \n",
    "  \n",
    "# making separate President_Name column from new data frame \n",
    "data[\"President_Name\"] = new[0] \n",
    "  \n",
    "# making separate Year_SOTU column from new data frame \n",
    "data[\"Year_SOTU\"] = new[1] \n",
    "  \n",
    "new = data[\"Year_SOTU\"].str.split(\".\", n = 1, expand = True) \n",
    "data[\"Year_SOTU\"] = new[0] \n",
    "\n",
    "# df display \n",
    "data.head(5) "
   ]
  },
  {
   "cell_type": "code",
   "execution_count": 8,
   "metadata": {},
   "outputs": [],
   "source": [
    "###############################################################################\n",
    "### Processing text into lists\n",
    "###############################################################################\n",
    "\n",
    "# create empty list to store text documents titles\n",
    "titles=[]\n",
    "\n",
    "#for loop which appends the DSI title to the titles list\n",
    "for i in range(0,len(data)):\n",
    "    temp_text=data['DSI_Title'].iloc[i]\n",
    "    titles.append(temp_text)\n",
    "\n",
    "# create empty list to store text documents\n",
    "text_body=[]\n",
    "\n",
    "# for loop which appends the text to the text_body list\n",
    "for i in range(0,len(data)):\n",
    "    temp_text=data['Text'].iloc[i]\n",
    "    text_body.append(temp_text)\n",
    "\n",
    "# Note: the text_body is the unprocessed list of documents read directly form the csv.\n",
    "\n",
    "# empty list to store processed documents\n",
    "processed_text=[]\n",
    "#for loop to process the text to the processed_text list\n",
    "for i in text_body:\n",
    "    text=clean_doc(i)\n",
    "    processed_text.append(text)"
   ]
  },
  {
   "cell_type": "code",
   "execution_count": 9,
   "metadata": {},
   "outputs": [],
   "source": [
    "###############################################################################\n",
    "### Note: the processed_text is the PROCESSED list of documents read directly  \n",
    "### form the csv.  Note the list of words is separated by commas.\n",
    "###############################################################################\n",
    "\n",
    "# stitch back together individual words to reform body of text\n",
    "final_processed_text=[]\n",
    "\n",
    "for i in processed_text:\n",
    "    temp_DSI=i[0]\n",
    "    for k in range(1,len(i)):\n",
    "        temp_DSI=temp_DSI+' '+i[k]\n",
    "    final_processed_text.append(temp_DSI)"
   ]
  },
  {
   "cell_type": "code",
   "execution_count": 10,
   "metadata": {},
   "outputs": [],
   "source": [
    "###############################################################################\n",
    "### Sklearn TFIDF \n",
    "###############################################################################\n",
    "\n",
    "# note the ngram_range will allow you to include multiple words within the TFIDF matrix\n",
    "# Call Tfidf Vectorizer\n",
    "Tfidf=TfidfVectorizer(ngram_range=(1,3))\n",
    "\n",
    "#fit the vectorizer using final processed documents.  The vectorizer requires the \n",
    "#stiched back together document.\n",
    "TFIDF_matrix=Tfidf.fit_transform(final_processed_text)\n",
    "\n",
    "#creating datafram from TFIDF Matrix\n",
    "matrix=pd.DataFrame(TFIDF_matrix.toarray(), columns=Tfidf.get_feature_names(), index=titles)"
   ]
  },
  {
   "cell_type": "code",
   "execution_count": 12,
   "metadata": {},
   "outputs": [
    {
     "data": {
      "text/html": "<div>\n<style scoped>\n    .dataframe tbody tr th:only-of-type {\n        vertical-align: middle;\n    }\n\n    .dataframe tbody tr th {\n        vertical-align: top;\n    }\n\n    .dataframe thead th {\n        text-align: right;\n    }\n</style>\n<table border=\"1\" class=\"dataframe\">\n  <thead>\n    <tr style=\"text-align: right;\">\n      <th></th>\n      <th>aaron</th>\n      <th>aaron associates</th>\n      <th>aaron associates measures</th>\n      <th>abandon</th>\n      <th>abandon blessings</th>\n      <th>abandon blessings distant</th>\n      <th>abandon cause</th>\n      <th>abandon cause liberty</th>\n      <th>abandon conquest</th>\n      <th>abandon conquest nature</th>\n      <th>...</th>\n      <th>zones bring</th>\n      <th>zones bring inner</th>\n      <th>zones broad</th>\n      <th>zones broad range</th>\n      <th>zones could</th>\n      <th>zones could birthday</th>\n      <th>zones means</th>\n      <th>zones means tenant</th>\n      <th>zones together</th>\n      <th>zones together theres</th>\n    </tr>\n  </thead>\n  <tbody>\n    <tr>\n      <th>Reagan_1982.txt</th>\n      <td>0.0</td>\n      <td>0.0</td>\n      <td>0.0</td>\n      <td>0.0</td>\n      <td>0.0</td>\n      <td>0.0</td>\n      <td>0.0</td>\n      <td>0.0</td>\n      <td>0.0</td>\n      <td>0.0</td>\n      <td>...</td>\n      <td>0.0</td>\n      <td>0.0</td>\n      <td>0.013268</td>\n      <td>0.013268</td>\n      <td>0.0</td>\n      <td>0.0</td>\n      <td>0.0</td>\n      <td>0.0</td>\n      <td>0.0</td>\n      <td>0.0</td>\n    </tr>\n    <tr>\n      <th>Wilson_1914.txt</th>\n      <td>0.0</td>\n      <td>0.0</td>\n      <td>0.0</td>\n      <td>0.0</td>\n      <td>0.0</td>\n      <td>0.0</td>\n      <td>0.0</td>\n      <td>0.0</td>\n      <td>0.0</td>\n      <td>0.0</td>\n      <td>...</td>\n      <td>0.0</td>\n      <td>0.0</td>\n      <td>0.000000</td>\n      <td>0.000000</td>\n      <td>0.0</td>\n      <td>0.0</td>\n      <td>0.0</td>\n      <td>0.0</td>\n      <td>0.0</td>\n      <td>0.0</td>\n    </tr>\n    <tr>\n      <th>Madison_1814.txt</th>\n      <td>0.0</td>\n      <td>0.0</td>\n      <td>0.0</td>\n      <td>0.0</td>\n      <td>0.0</td>\n      <td>0.0</td>\n      <td>0.0</td>\n      <td>0.0</td>\n      <td>0.0</td>\n      <td>0.0</td>\n      <td>...</td>\n      <td>0.0</td>\n      <td>0.0</td>\n      <td>0.000000</td>\n      <td>0.000000</td>\n      <td>0.0</td>\n      <td>0.0</td>\n      <td>0.0</td>\n      <td>0.0</td>\n      <td>0.0</td>\n      <td>0.0</td>\n    </tr>\n    <tr>\n      <th>Johnson_1969.txt</th>\n      <td>0.0</td>\n      <td>0.0</td>\n      <td>0.0</td>\n      <td>0.0</td>\n      <td>0.0</td>\n      <td>0.0</td>\n      <td>0.0</td>\n      <td>0.0</td>\n      <td>0.0</td>\n      <td>0.0</td>\n      <td>...</td>\n      <td>0.0</td>\n      <td>0.0</td>\n      <td>0.000000</td>\n      <td>0.000000</td>\n      <td>0.0</td>\n      <td>0.0</td>\n      <td>0.0</td>\n      <td>0.0</td>\n      <td>0.0</td>\n      <td>0.0</td>\n    </tr>\n    <tr>\n      <th>Hoover_1930.txt</th>\n      <td>0.0</td>\n      <td>0.0</td>\n      <td>0.0</td>\n      <td>0.0</td>\n      <td>0.0</td>\n      <td>0.0</td>\n      <td>0.0</td>\n      <td>0.0</td>\n      <td>0.0</td>\n      <td>0.0</td>\n      <td>...</td>\n      <td>0.0</td>\n      <td>0.0</td>\n      <td>0.000000</td>\n      <td>0.000000</td>\n      <td>0.0</td>\n      <td>0.0</td>\n      <td>0.0</td>\n      <td>0.0</td>\n      <td>0.0</td>\n      <td>0.0</td>\n    </tr>\n  </tbody>\n</table>\n<p>5 rows × 293994 columns</p>\n</div>",
      "text/plain": "                  aaron  aaron associates  aaron associates measures  abandon  \\\nReagan_1982.txt     0.0               0.0                        0.0      0.0   \nWilson_1914.txt     0.0               0.0                        0.0      0.0   \nMadison_1814.txt    0.0               0.0                        0.0      0.0   \nJohnson_1969.txt    0.0               0.0                        0.0      0.0   \nHoover_1930.txt     0.0               0.0                        0.0      0.0   \n\n                  abandon blessings  abandon blessings distant  abandon cause  \\\nReagan_1982.txt                 0.0                        0.0            0.0   \nWilson_1914.txt                 0.0                        0.0            0.0   \nMadison_1814.txt                0.0                        0.0            0.0   \nJohnson_1969.txt                0.0                        0.0            0.0   \nHoover_1930.txt                 0.0                        0.0            0.0   \n\n                  abandon cause liberty  abandon conquest  \\\nReagan_1982.txt                     0.0               0.0   \nWilson_1914.txt                     0.0               0.0   \nMadison_1814.txt                    0.0               0.0   \nJohnson_1969.txt                    0.0               0.0   \nHoover_1930.txt                     0.0               0.0   \n\n                  abandon conquest nature  ...  zones bring  \\\nReagan_1982.txt                       0.0  ...          0.0   \nWilson_1914.txt                       0.0  ...          0.0   \nMadison_1814.txt                      0.0  ...          0.0   \nJohnson_1969.txt                      0.0  ...          0.0   \nHoover_1930.txt                       0.0  ...          0.0   \n\n                  zones bring inner  zones broad  zones broad range  \\\nReagan_1982.txt                 0.0     0.013268           0.013268   \nWilson_1914.txt                 0.0     0.000000           0.000000   \nMadison_1814.txt                0.0     0.000000           0.000000   \nJohnson_1969.txt                0.0     0.000000           0.000000   \nHoover_1930.txt                 0.0     0.000000           0.000000   \n\n                  zones could  zones could birthday  zones means  \\\nReagan_1982.txt           0.0                   0.0          0.0   \nWilson_1914.txt           0.0                   0.0          0.0   \nMadison_1814.txt          0.0                   0.0          0.0   \nJohnson_1969.txt          0.0                   0.0          0.0   \nHoover_1930.txt           0.0                   0.0          0.0   \n\n                  zones means tenant  zones together  zones together theres  \nReagan_1982.txt                  0.0             0.0                    0.0  \nWilson_1914.txt                  0.0             0.0                    0.0  \nMadison_1814.txt                 0.0             0.0                    0.0  \nJohnson_1969.txt                 0.0             0.0                    0.0  \nHoover_1930.txt                  0.0             0.0                    0.0  \n\n[5 rows x 293994 columns]"
     },
     "execution_count": 12,
     "metadata": {},
     "output_type": "execute_result"
    }
   ],
   "source": [
    "# Verify TFIDF_Matrix has been created.\n",
    "\n",
    "matrix.head(5)"
   ]
  }
 ],
 "metadata": {
  "kernelspec": {
   "display_name": "Python 3.7.4 64-bit ('anaconda3': conda)",
   "language": "python",
   "name": "python37464bitanaconda3condaf61d2c006c554469863888b48b6c30fb"
  },
  "language_info": {
   "codemirror_mode": {
    "name": "ipython",
    "version": 3
   },
   "file_extension": ".py",
   "mimetype": "text/x-python",
   "name": "python",
   "nbconvert_exporter": "python",
   "pygments_lexer": "ipython3",
   "version": "3.7.4-final"
  }
 },
 "nbformat": 4,
 "nbformat_minor": 2
}